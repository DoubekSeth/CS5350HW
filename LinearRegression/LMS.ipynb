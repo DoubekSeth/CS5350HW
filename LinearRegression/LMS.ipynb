{
 "cells": [
  {
   "cell_type": "markdown",
   "metadata": {},
   "source": [
    "# Setup"
   ]
  },
  {
   "cell_type": "markdown",
   "metadata": {},
   "source": [
    "## Imports"
   ]
  },
  {
   "cell_type": "code",
   "execution_count": 1,
   "metadata": {},
   "outputs": [],
   "source": [
    "import numpy as np\n",
    "import pandas as pd"
   ]
  },
  {
   "cell_type": "markdown",
   "metadata": {},
   "source": [
    "## Fetch Data"
   ]
  },
  {
   "cell_type": "code",
   "execution_count": 5,
   "metadata": {},
   "outputs": [],
   "source": [
    "concrete_header = [\"Cement\", \"Slag\", \"Fly Ash\", \"Water\", \"SP\", \"Coarse Aggr\", \"Fine Aggr\", \"SLUMP Flow\"]\n",
    "train_concrete = pd.read_csv(\"https://raw.githubusercontent.com/DoubekSeth/ToyDatasets/main/concrete/train.csv\", names=concrete_header)\n",
    "test_concrete = pd.read_csv(\"https://raw.githubusercontent.com/DoubekSeth/ToyDatasets/main/concrete/test.csv\", names=concrete_header)"
   ]
  },
  {
   "cell_type": "markdown",
   "metadata": {},
   "source": [
    "# Algorithm"
   ]
  },
  {
   "cell_type": "markdown",
   "metadata": {},
   "source": [
    "Method that adds ones to a dataframe, makes algorithm simplier to implement"
   ]
  },
  {
   "cell_type": "code",
   "execution_count": 3,
   "metadata": {},
   "outputs": [],
   "source": [
    "def addOnesForBiasOnDataset(df):\n",
    "    rows = df.shape[0]\n",
    "    columns = df.shape[1]\n",
    "    ones = np.ones(rows)\n",
    "    #Note, false so that if already there doesn't insert a new column\n",
    "    df.insert(columns-1, \"Bias Term\", ones, False)"
   ]
  },
  {
   "cell_type": "code",
   "execution_count": null,
   "metadata": {},
   "outputs": [],
   "source": [
    "def trainWeights(train_df, cost_function, minimizer):\n"
   ]
  },
  {
   "cell_type": "code",
   "execution_count": 6,
   "metadata": {},
   "outputs": [],
   "source": [
    "def cost_MSE(weights, datum):\n",
    "    return 0.5*(datum[\"SLUMP Flow\"]-np.dot(weights, datum.drop(\"SLUMP Flow\")))"
   ]
  },
  {
   "cell_type": "code",
   "execution_count": 10,
   "metadata": {},
   "outputs": [
    {
     "name": "stdout",
     "output_type": "stream",
     "text": [
      "Cement        -0.890447\n",
      "Slag          -1.295950\n",
      "Fly Ash        1.188030\n",
      "Water         -1.450430\n",
      "SP             1.238500\n",
      "Coarse Aggr    1.876070\n",
      "Fine Aggr     -0.818684\n",
      "Bias Term      1.000000\n",
      "SLUMP Flow    -0.005574\n",
      "Name: 0, dtype: float64 [1. 1. 1. 1. 1. 1. 1. 1.]\n"
     ]
    }
   ],
   "source": [
    "weights = np.ones(8)\n",
    "addOnesForBiasOnDataset(train_concrete)\n",
    "datum = train_concrete.loc[0]\n",
    "print(datum, weights)"
   ]
  }
 ],
 "metadata": {
  "kernelspec": {
   "display_name": "Python 3",
   "language": "python",
   "name": "python3"
  },
  "language_info": {
   "codemirror_mode": {
    "name": "ipython",
    "version": 3
   },
   "file_extension": ".py",
   "mimetype": "text/x-python",
   "name": "python",
   "nbconvert_exporter": "python",
   "pygments_lexer": "ipython3",
   "version": "3.10.11"
  }
 },
 "nbformat": 4,
 "nbformat_minor": 2
}

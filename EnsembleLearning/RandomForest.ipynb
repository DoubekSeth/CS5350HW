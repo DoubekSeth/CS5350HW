{
 "cells": [
  {
   "cell_type": "code",
   "execution_count": 27,
   "metadata": {},
   "outputs": [],
   "source": [
    "%run \"../EnsembleLearning/Bagging.ipynb\""
   ]
  },
  {
   "cell_type": "code",
   "execution_count": 28,
   "metadata": {},
   "outputs": [],
   "source": [
    "import random"
   ]
  },
  {
   "cell_type": "code",
   "execution_count": 29,
   "metadata": {},
   "outputs": [],
   "source": [
    "def RFbagging(s_train, T, attributes, full_attributes, purity_function, s_test, voting=True, random_forest_selector=4):\n",
    "    trees = []\n",
    "    for i in range(T):\n",
    "        print(i)\n",
    "        sampled = random.choices(s_train, k=len(s_train))\n",
    "        weights = np.ones(len(s_train))\n",
    "        root = createRFTree(sampled, attributes, full_attributes, purity_function, weights, stop=math.inf, random_forest_selector=random_forest_selector)\n",
    "        trees.append(root)\n",
    "        print(\"Accuracy Train:\", findModelAccuracyBag(trees, s_train, full_attributes))\n",
    "        print(\"Accuracy Test:\", findModelAccuracyBag(trees, s_test, full_attributes))\n",
    "    return trees"
   ]
  },
  {
   "cell_type": "code",
   "execution_count": 34,
   "metadata": {},
   "outputs": [
    {
     "name": "stdout",
     "output_type": "stream",
     "text": [
      "0\n",
      "Accuracy Train: 0.9338\n",
      "Accuracy Test: 0.8298\n",
      "1\n",
      "Accuracy Train: 0.9276\n",
      "Accuracy Test: 0.7976\n",
      "2\n",
      "Accuracy Train: 0.9654\n",
      "Accuracy Test: 0.8592\n",
      "3\n",
      "Accuracy Train: 0.9688\n",
      "Accuracy Test: 0.8398\n",
      "4\n",
      "Accuracy Train: 0.9742\n",
      "Accuracy Test: 0.867\n",
      "5\n",
      "Accuracy Train: 0.978\n",
      "Accuracy Test: 0.8522\n",
      "6\n",
      "Accuracy Train: 0.9798\n",
      "Accuracy Test: 0.8682\n",
      "7\n",
      "Accuracy Train: 0.9852\n",
      "Accuracy Test: 0.8568\n",
      "8\n",
      "Accuracy Train: 0.984\n",
      "Accuracy Test: 0.8682\n",
      "9\n",
      "Accuracy Train: 0.9868\n",
      "Accuracy Test: 0.8644\n",
      "10\n",
      "Accuracy Train: 0.9848\n",
      "Accuracy Test: 0.87\n",
      "11\n",
      "Accuracy Train: 0.9898\n",
      "Accuracy Test: 0.866\n",
      "12\n",
      "Accuracy Train: 0.9882\n",
      "Accuracy Test: 0.8694\n",
      "13\n",
      "Accuracy Train: 0.9904\n",
      "Accuracy Test: 0.8658\n",
      "14\n",
      "Accuracy Train: 0.9882\n",
      "Accuracy Test: 0.87\n",
      "15\n",
      "Accuracy Train: 0.9916\n",
      "Accuracy Test: 0.8684\n",
      "16\n",
      "Accuracy Train: 0.9894\n",
      "Accuracy Test: 0.8732\n",
      "17\n",
      "Accuracy Train: 0.9916\n",
      "Accuracy Test: 0.8702\n",
      "18\n",
      "Accuracy Train: 0.9892\n",
      "Accuracy Test: 0.8762\n"
     ]
    }
   ],
   "source": [
    "s_train = s_banktraining\n",
    "s_test = s_banktesting\n",
    "full_attributes = full_attributes_bank\n",
    "attributes = remaining_attributes_bank\n",
    "purity_function = GiniInd\n",
    "T=19\n",
    "\n",
    "trees = RFbagging(s_train=s_train, T=T, attributes=attributes, full_attributes=full_attributes, purity_function=purity_function, s_test=s_test, random_forest_selector=6)"
   ]
  }
 ],
 "metadata": {
  "kernelspec": {
   "display_name": "Python 3",
   "language": "python",
   "name": "python3"
  },
  "language_info": {
   "codemirror_mode": {
    "name": "ipython",
    "version": 3
   },
   "file_extension": ".py",
   "mimetype": "text/x-python",
   "name": "python",
   "nbconvert_exporter": "python",
   "pygments_lexer": "ipython3",
   "version": "3.11.6"
  }
 },
 "nbformat": 4,
 "nbformat_minor": 2
}

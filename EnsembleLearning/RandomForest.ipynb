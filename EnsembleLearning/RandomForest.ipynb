{
 "cells": [
  {
   "cell_type": "code",
   "execution_count": 27,
   "metadata": {},
   "outputs": [],
   "source": [
    "%run \"../EnsembleLearning/Bagging.ipynb\""
   ]
  },
  {
   "cell_type": "code",
   "execution_count": 28,
   "metadata": {},
   "outputs": [],
   "source": [
    "import random"
   ]
  },
  {
   "cell_type": "code",
   "execution_count": 29,
   "metadata": {},
   "outputs": [],
   "source": [
    "def RFbagging(s_train, T, attributes, full_attributes, purity_function, s_test, voting=True, random_forest_selector=4):\n",
    "    trees = []\n",
    "    for i in range(T):\n",
    "        print(i)\n",
    "        sampled = random.choices(s_train, k=len(s_train))\n",
    "        weights = np.ones(len(s_train))\n",
    "        root = createRFTree(sampled, attributes, full_attributes, purity_function, weights, stop=math.inf, random_forest_selector=random_forest_selector)\n",
    "        trees.append(root)\n",
    "        print(\"Accuracy Train:\", findModelAccuracyBag(trees, s_train, full_attributes))\n",
    "        print(\"Accuracy Test:\", findModelAccuracyBag(trees, s_test, full_attributes))\n",
    "    return trees"
   ]
  },
  {
   "cell_type": "markdown",
   "metadata": {},
   "source": [
    "s_train = s_banktraining\n",
    "s_test = s_banktesting\n",
    "full_attributes = full_attributes_bank\n",
    "attributes = remaining_attributes_bank\n",
    "purity_function = GiniInd\n",
    "T=19\n",
    "\n",
    "trees = RFbagging(s_train=s_train, T=T, attributes=attributes, full_attributes=full_attributes, purity_function=purity_function, s_test=s_test, random_forest_selector=6)"
   ]
  }
 ],
 "metadata": {
  "kernelspec": {
   "display_name": "Python 3",
   "language": "python",
   "name": "python3"
  },
  "language_info": {
   "codemirror_mode": {
    "name": "ipython",
    "version": 3
   },
   "file_extension": ".py",
   "mimetype": "text/x-python",
   "name": "python",
   "nbconvert_exporter": "python",
   "pygments_lexer": "ipython3",
   "version": "3.11.6"
  }
 },
 "nbformat": 4,
 "nbformat_minor": 2
}

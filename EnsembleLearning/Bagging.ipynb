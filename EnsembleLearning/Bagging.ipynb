{
 "cells": [
  {
   "cell_type": "code",
   "execution_count": 4,
   "metadata": {},
   "outputs": [],
   "source": [
    "%run \"../EnsembleLearning/Adaboost.ipynb\""
   ]
  },
  {
   "cell_type": "code",
   "execution_count": 5,
   "metadata": {},
   "outputs": [],
   "source": [
    "import random\n",
    "import math\n",
    "import numpy as np"
   ]
  },
  {
   "cell_type": "code",
   "execution_count": 6,
   "metadata": {},
   "outputs": [],
   "source": [
    "#Repeat 1,..,T\n",
    "#Draw m samples from training with replacement\n",
    "#Learn decision tree C_t using ID3/Cart\n",
    "#Vote/Average T predictions\n",
    "\n",
    "def bagging(s_train, T, attributes, full_attributes, purity_function, voting=True):\n",
    "    trees = []\n",
    "    for i in range(T):\n",
    "        print(i)\n",
    "        sampled = random.choices(s_train, k=len(s_train))\n",
    "        weights = np.ones(len(s_train))\n",
    "        root = createTree(sampled, attributes, full_attributes, purity_function, weights, stop=math.inf)\n",
    "        trees.append(root)\n",
    "        print(\"Accuracy:\", findModelAccuracyBag(trees, s_train, full_attributes))\n",
    "        print(\"Accuracy:\", findModelAccuracyBag(trees, s_test, full_attributes))\n",
    "    return trees"
   ]
  },
  {
   "cell_type": "code",
   "execution_count": 7,
   "metadata": {},
   "outputs": [],
   "source": [
    "def findModelAccuracyBag(trees, s, full_attributes):\n",
    "    matched = 0\n",
    "    for datapoint in s:\n",
    "        preds = []\n",
    "        for tree in trees:\n",
    "            pred = travTreeWithoutLabel(tree, datapoint, full_attributes)\n",
    "            preds.append(pred)\n",
    "        #print(preds)\n",
    "        votedPred = convertBinaryToString(max(set(preds), key=preds.count))\n",
    "        #print(votedPred)\n",
    "        if(votedPred == datapoint[len(datapoint)-1]):\n",
    "            matched += 1\n",
    "    return matched/len(s)    "
   ]
  },
  {
   "cell_type": "code",
   "execution_count": 8,
   "metadata": {},
   "outputs": [],
   "source": [
    "def convertBinaryToString(bin):\n",
    "    if(bin == 1):\n",
    "        return \"yes\"\n",
    "    else:\n",
    "        return \"no\""
   ]
  },
  {
   "cell_type": "markdown",
   "metadata": {},
   "source": [
    "s_train = s_banktraining\n",
    "s_test = s_banktesting\n",
    "full_attributes = full_attributes_bank\n",
    "attributes = remaining_attributes_bank\n",
    "purity_function = GiniInd\n",
    "T=20\n",
    "\n",
    "trees = bagging(s_train=s_train, T=T, attributes=attributes, full_attributes=full_attributes, purity_function=purity_function)"
   ]
  }
 ],
 "metadata": {
  "kernelspec": {
   "display_name": "Python 3",
   "language": "python",
   "name": "python3"
  },
  "language_info": {
   "codemirror_mode": {
    "name": "ipython",
    "version": 3
   },
   "file_extension": ".py",
   "mimetype": "text/x-python",
   "name": "python",
   "nbconvert_exporter": "python",
   "pygments_lexer": "ipython3",
   "version": "3.11.6"
  }
 },
 "nbformat": 4,
 "nbformat_minor": 2
}

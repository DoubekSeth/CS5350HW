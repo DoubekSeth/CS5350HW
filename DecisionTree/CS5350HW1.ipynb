{
  "cells": [
    {
      "cell_type": "markdown",
      "metadata": {
        "colab_type": "text",
        "id": "view-in-github"
      },
      "source": [
        "<a href=\"https://colab.research.google.com/github/DoubekSeth/CS5350HW/blob/main/DecisionTree/CS5350HW1.ipynb\" target=\"_parent\"><img src=\"https://colab.research.google.com/assets/colab-badge.svg\" alt=\"Open In Colab\"/></a>"
      ]
    },
    {
      "cell_type": "markdown",
      "metadata": {
        "id": "1tAMQCQuqYFY"
      },
      "source": [
        "# Import libraries and data sets"
      ]
    },
    {
      "cell_type": "markdown",
      "metadata": {
        "id": "LxP-BcF9qfKR"
      },
      "source": [
        "## Libraries"
      ]
    },
    {
      "cell_type": "code",
      "execution_count": 95,
      "metadata": {
        "id": "d6EZ_pVgdJy0"
      },
      "outputs": [],
      "source": [
        "from collections import Counter\n",
        "import queue\n",
        "import math\n",
        "import statistics\n",
        "import copy\n",
        "import numpy as np\n",
        "import pandas as pd"
      ]
    },
    {
      "cell_type": "markdown",
      "metadata": {
        "id": "jUr3IXloqjXi"
      },
      "source": [
        "## Datasets"
      ]
    },
    {
      "cell_type": "markdown",
      "metadata": {
        "id": "EM7i6XVIqq57"
      },
      "source": [
        "### Tennis"
      ]
    },
    {
      "cell_type": "code",
      "execution_count": 96,
      "metadata": {
        "id": "FsLt-5aBqnmj"
      },
      "outputs": [],
      "source": [
        "s_tennis = [[\"sunny\", \"hot\", \"high\", \"weak\", \"-\"],\n",
        "     [\"sunny\", \"hot\", \"high\", \"strong\", \"-\"],\n",
        "     [\"overcast\", \"hot\", \"high\", \"weak\", \"+\"],\n",
        "     [\"rainy\", \"mild\", \"high\", \"weak\", \"+\"],\n",
        "     [\"rainy\", \"cool\", \"normal\", \"weak\", \"+\"],\n",
        "     [\"rainy\", \"cool\", \"normal\", \"strong\", \"-\"],\n",
        "     [\"overcast\", \"cool\", \"normal\", \"strong\", \"+\"],\n",
        "     [\"sunny\", \"mild\", \"high\", \"weak\", \"-\"],\n",
        "     [\"sunny\", \"cool\", \"normal\", \"weak\", \"+\"],\n",
        "     [\"rainy\", \"mild\", \"normal\", \"weak\", \"+\"],\n",
        "     [\"sunny\", \"mild\", \"normal\", \"strong\", \"+\"],\n",
        "     [\"overcast\", \"mild\", \"high\", \"strong\", \"+\"],\n",
        "     [\"overcast\", \"hot\", \"normal\", \"weak\", \"+\"],\n",
        "     [\"rainy\", \"mild\", \"high\", \"strong\", \"-\"]]\n",
        "full_attributes_tennis = {\"outlook\":[\"sunny\", \"overcast\", \"rainy\"], \"temperature\":[\"hot\", \"mild\", \"cool\"], \"humidity\":[\"high\", \"normal\", \"low\"], \"wind\":[\"strong\", \"weak\"]}\n",
        "remaining_attributes_tennis = [\"outlook\", \"temperature\", \"humidity\", \"wind\"]"
      ]
    },
    {
      "cell_type": "markdown",
      "metadata": {
        "id": "nVfE_A0LqxuM"
      },
      "source": [
        "### Boolean Table Example (1st problem)\n"
      ]
    },
    {
      "cell_type": "code",
      "execution_count": 97,
      "metadata": {
        "id": "oe6usJWtqwrU"
      },
      "outputs": [],
      "source": [
        "s_booltab = [\n",
        "    [\"0\", \"0\", \"1\", \"0\", \"0\"],\n",
        "    [\"0\", \"1\", \"0\", \"0\", \"0\"],\n",
        "    [\"0\", \"0\", \"1\", \"1\", \"1\"],\n",
        "    [\"1\", \"0\", \"0\", \"1\", \"1\"],\n",
        "    [\"0\", \"1\", \"1\", \"0\", \"0\"],\n",
        "    [\"1\", \"1\", \"0\", \"0\", \"0\"],\n",
        "    [\"0\", \"1\", \"0\", \"1\", \"0\"]\n",
        "]\n",
        "full_attributes_booltab = {\"x1\":[\"0\", \"1\"], \"x2\":[\"0\", \"1\"], \"x3\":[\"0\", \"1\"], \"x4\":[\"0\", \"1\"]}\n",
        "remaining_attributes_booltab = [\"x1\", \"x2\", \"x3\", \"x4\"]"
      ]
    },
    {
      "cell_type": "markdown",
      "metadata": {
        "id": "CaJHD8UUrJpf"
      },
      "source": [
        "### Car"
      ]
    },
    {
      "cell_type": "code",
      "execution_count": 98,
      "metadata": {
        "id": "7_ustlGCrOMg"
      },
      "outputs": [],
      "source": [
        "s_cartraining = pd.read_csv(\"https://raw.githubusercontent.com/DoubekSeth/ToyDatasets/main/car-4/train.csv\", header=None).to_numpy()\n",
        "s_cartesting = pd.read_csv(\"https://raw.githubusercontent.com/DoubekSeth/ToyDatasets/main/car-4/test.csv\", header=None).to_numpy()\n",
        "\n",
        "full_attributes_car = {\n",
        "    \"buying\":[\"vhigh\", \"high\", \"med\", \"low\"],\n",
        "    \"maint\":[\"vhigh\", \"high\", \"med\", \"low\"],\n",
        "    \"doors\":[\"2\", \"3\", \"4\", \"5more\"],\n",
        "    \"persons\":[\"2\", \"4\", \"more\"],\n",
        "    \"lug_boot\":[\"small\", \"med\", \"big\"],\n",
        "    \"safety\":[\"low\", \"med\", \"high\"]}\n",
        "remaining_attributes_car = [\"buying\", \"maint\", \"doors\", \"persons\", \"lug_boot\", \"safety\"]"
      ]
    },
    {
      "cell_type": "markdown",
      "metadata": {
        "id": "n7BJHHrKt-Dt"
      },
      "source": [
        "### Bank"
      ]
    },
    {
      "cell_type": "code",
      "execution_count": 99,
      "metadata": {
        "id": "DuPL1RIfuCBG"
      },
      "outputs": [],
      "source": [
        "s_banktraining = pd.read_csv(\"https://raw.githubusercontent.com/DoubekSeth/ToyDatasets/main/bank-4/train.csv\", header=None).to_numpy()\n",
        "s_banktesting = pd.read_csv(\"https://raw.githubusercontent.com/DoubekSeth/ToyDatasets/main/bank-4/test.csv\", header=None).to_numpy()\n",
        "\n",
        "full_attributes_bank = {\n",
        "    \"age\":\"numeric\",\n",
        "    \"job\":[\"admin.\",\"unknown\",\"unemployed\",\"management\",\"housemaid\",\"entrepreneur\",\"student\", \"blue-collar\",\"self-employed\",\"retired\",\"technician\",\"services\"],\n",
        "    \"marital\":[\"married\",\"divorced\",\"single\"],\n",
        "    \"education\":[\"unknown\",\"secondary\",\"primary\",\"tertiary\"],\n",
        "    \"default\":[\"yes\", \"no\"],\n",
        "    \"balance\":\"numeric\",\n",
        "    \"housing\":[\"yes\", \"no\"],\n",
        "    \"loan\":[\"yes\", \"no\"],\n",
        "    \"contact\":[\"unknown\",\"telephone\",\"cellular\"],\n",
        "    \"day\":\"numeric\",\n",
        "    \"month\":[\"jan\", \"feb\", \"mar\", \"apr\", \"may\", \"jun\", \"jul\", \"aug\", \"sep\", \"oct\", \"nov\", \"dec\"],\n",
        "    \"duration\":\"numeric\",\n",
        "    \"campaign\":\"numeric\",\n",
        "    \"pdays\":\"numeric\",\n",
        "    \"previous\":\"numeric\",\n",
        "    \"poutcome\":[\"unknown\",\"other\",\"failure\",\"success\"]\n",
        "}\n",
        "remaining_attributes_bank = [\"age\", \"job\", \"marital\", \"education\", \"default\", \"balance\", \"housing\", \"loan\", \"contact\", \"day\", \"month\", \"duration\", \"campaign\", \"pdays\", \"previous\", \"poutcome\"]"
      ]
    },
    {
      "cell_type": "markdown",
      "metadata": {
        "id": "t2hIBFMA7kNQ"
      },
      "source": [
        "Filling in unknowns in dataset"
      ]
    },
    {
      "cell_type": "code",
      "execution_count": 100,
      "metadata": {
        "colab": {
          "base_uri": "https://localhost:8080/"
        },
        "id": "Q6QmNsXn7j2N",
        "outputId": "ecfcdb00-0faa-4bd5-c0b4-f763004a43c5"
      },
      "outputs": [],
      "source": [
        "#Find all modes for each data point\n",
        "attributes_mode_bank = {}\n",
        "for i in range(len(remaining_attributes_bank)):\n",
        "  mode = max(set([k for k in s_banktraining[:, i] if k != \"unknown\"]), key=[k for k in s_banktraining[:, i] if k != \"unknown\"].count)\n",
        "  attributes_mode_bank[remaining_attributes_bank[i]] = mode\n",
        "\n",
        "# Set the data back\n",
        "s_banktraining_filled = copy.deepcopy(s_banktraining)\n",
        "for datapoint in range(len(s_banktraining_filled)):\n",
        "  for eleInd in range(len(s_banktraining_filled[datapoint])):\n",
        "    if(s_banktraining_filled[datapoint, eleInd]==\"unknown\"):\n",
        "      s_banktraining_filled[datapoint, eleInd]=attributes_mode_bank[remaining_attributes_bank[eleInd]]\n",
        "\n",
        "# Set the data for testing back\n",
        "s_banktesting_filled = copy.deepcopy(s_banktesting)\n",
        "for datapoint in range(len(s_banktesting_filled)):\n",
        "  for eleInd in range(len(s_banktesting_filled[datapoint])):\n",
        "    if(s_banktesting_filled[datapoint, eleInd]==\"unknown\"):\n",
        "      s_banktesting_filled[datapoint, eleInd]=attributes_mode_bank[remaining_attributes_bank[eleInd]]\n",
        "\n",
        "full_attributes_bank_filled = {\n",
        "    \"age\":\"numeric\",\n",
        "    \"job\":[\"admin.\",\"unemployed\",\"management\",\"housemaid\",\"entrepreneur\",\"student\", \"blue-collar\",\"self-employed\",\"retired\",\"technician\",\"services\"],\n",
        "    \"marital\":[\"married\",\"divorced\",\"single\"],\n",
        "    \"education\":[\"secondary\",\"primary\",\"tertiary\"],\n",
        "    \"default\":[\"yes\", \"no\"],\n",
        "    \"balance\":\"numeric\",\n",
        "    \"housing\":[\"yes\", \"no\"],\n",
        "    \"loan\":[\"yes\", \"no\"],\n",
        "    \"contact\":[\"telephone\",\"cellular\"],\n",
        "    \"day\":\"numeric\",\n",
        "    \"month\":[\"jan\", \"feb\", \"mar\", \"apr\", \"may\", \"jun\", \"jul\", \"aug\", \"sep\", \"oct\", \"nov\", \"dec\"],\n",
        "    \"duration\":\"numeric\",\n",
        "    \"campaign\":\"numeric\",\n",
        "    \"pdays\":\"numeric\",\n",
        "    \"previous\":\"numeric\",\n",
        "    \"poutcome\":[\"other\",\"failure\",\"success\"]\n",
        "}"
      ]
    },
    {
      "cell_type": "markdown",
      "metadata": {
        "id": "ruVKT1PnkvXY"
      },
      "source": [
        "# ID3 Algorithm"
      ]
    },
    {
      "cell_type": "markdown",
      "metadata": {
        "id": "HeMvH4GxlIUi"
      },
      "source": [
        "## Main Algorithm"
      ]
    },
    {
      "cell_type": "code",
      "execution_count": 101,
      "metadata": {
        "id": "jMW4u4fcKCCE"
      },
      "outputs": [],
      "source": [
        "class Node:\n",
        "  def __init__(self, s, atrs, parent=None, parentVal=None, label=None):\n",
        "    self.s = s\n",
        "    self.atrs = atrs\n",
        "    self.parent = parent\n",
        "    self.label = label\n",
        "    self.children = []\n",
        "    self.parentVal = parentVal\n",
        "\n",
        "  def addChild(self, node):\n",
        "    self.children.append(node)"
      ]
    },
    {
      "cell_type": "code",
      "execution_count": 102,
      "metadata": {
        "id": "8ohC663wMYYp"
      },
      "outputs": [],
      "source": [
        "def ID3(s, remaining_attributes, full_attributes, purity_func, parentNode, weights=None, level=0, stopping=math.inf, printing=False):\n",
        "  if weights is None:\n",
        "    weights=np.ones(len(s))\n",
        "  #First, check if all training examples s have same label. First stopping condition\n",
        "  if(labelSame(s)[0]):\n",
        "    if(printing):\n",
        "      print(\"Same Label\", labelSame(s)[1])\n",
        "    parentNode.label = labelSame(s)[1]\n",
        "    return\n",
        "  #Second, check if exhausted attributes and if so return leaf node with most common label. Second stopping condition\n",
        "  if(len(remaining_attributes) == 0):\n",
        "    if(printing):\n",
        "      print(\"Exhausted Attributes\", mostCommonLabel(s, 1, weights)[0][0])\n",
        "    parentNode.label = mostCommonLabel(s, 1, weights)[0][0]\n",
        "    return\n",
        "  #Third, check if have hit maximum stopping depth\n",
        "  #print(\"hit \", level, \" out of \", stopping)\n",
        "  if(level >= stopping):\n",
        "    parentNode.label = mostCommonLabel(s, 1, weights)[0][0]\n",
        "    return\n",
        "  level += 1\n",
        "  #If didn't stop, then we can move onto the main part of the algorithm\n",
        "  #Create root if we don't have one\n",
        "  if(parentNode==None):\n",
        "    parentNode = Node(s=s, atrs=remaining_attributes, parent=None)\n",
        "  #Find attribute best splits S\n",
        "  bestAtr = findBestSplit(s, weights, remaining_attributes, full_attributes, purity_func, printing)\n",
        "  parentNode.label = bestAtr\n",
        "  if(printing):\n",
        "    print(bestAtr)\n",
        "  less_remaining_attributes = remaining_attributes[:]\n",
        "  #print(less_remaining_attributes, bestAtr)\n",
        "  less_remaining_attributes.remove(bestAtr)\n",
        "  #Go thru all values for best attribute\n",
        "  loop_attrs = full_attributes[bestAtr]\n",
        "  numericFilter=False\n",
        "  if(loop_attrs==\"numeric\"):\n",
        "    numericFilter=True\n",
        "    loop_attrs = [\"lower than median\", \"higher than median\"]\n",
        "  for val in loop_attrs:\n",
        "    s_v, weights_v = filterSOnAtrVal(s, weights, bestAtr, val, full_attributes, numericFilter)\n",
        "    #Check if s_v empty\n",
        "    if(len(s_v)==0):\n",
        "      if(printing):\n",
        "        print(\"S_v empty\", val, mostCommonLabel(s, 1, weights)[0][0])\n",
        "      newNode = Node(s=s_v, atrs=less_remaining_attributes, parent=parentNode, parentVal=val, label=mostCommonLabel(s, 1, weights)[0][0])\n",
        "      parentNode.addChild(newNode)\n",
        "    else:\n",
        "      newNode = Node(s=s_v, atrs=less_remaining_attributes, parent=parentNode, parentVal=val)\n",
        "      if(printing):\n",
        "        print(\"New node\", val)\n",
        "      parentNode.addChild(newNode)\n",
        "      ID3(s_v, less_remaining_attributes, full_attributes, purity_func, newNode, weights=weights_v, level=level, stopping=stopping, printing=printing)\n",
        "  return parentNode"
      ]
    },
    {
      "cell_type": "markdown",
      "metadata": {
        "id": "IG4-mpnik_bB"
      },
      "source": [
        "## Helper Functions"
      ]
    },
    {
      "cell_type": "markdown",
      "metadata": {
        "id": "98_lLelDbvZP"
      },
      "source": [
        "Does two functions, first returns true if all labels are the same for s. Second returns the label if all labels are same or else returns none"
      ]
    },
    {
      "cell_type": "code",
      "execution_count": 103,
      "metadata": {
        "id": "MhLUNxq3XA_L"
      },
      "outputs": [],
      "source": [
        "def labelSame(s):\n",
        "  label = s[0][len(s[0])-1]\n",
        "  for i in s:\n",
        "    if(i[len(i)-1] != label):\n",
        "      return False, None\n",
        "  return True, label"
      ]
    },
    {
      "cell_type": "markdown",
      "metadata": {
        "id": "OGDsSdPxld2e"
      },
      "source": [
        "Another helper function, returns the n most common label in s"
      ]
    },
    {
      "cell_type": "code",
      "execution_count": 104,
      "metadata": {
        "id": "MsU5wdDfcJQ6"
      },
      "outputs": [],
      "source": [
        "def mostCommonLabel(s, n, weights):\n",
        "  labels = {}\n",
        "  for i in range(len(s)):\n",
        "    if(s[i][len(s[i])-1] in labels):\n",
        "      labels[s[i][len(s[i])-1]] += weights[i]\n",
        "    else:\n",
        "      labels[s[i][len(s[i])-1]] = weights[i]\n",
        "  #Find most common label out of all the labels\n",
        "  #print(\"Labels:\", labels)\n",
        "  mostCommon = sorted(labels.items(), key=lambda x:x[1], reverse=True)\n",
        "  #print(\"Most Common:\", mostCommon)\n",
        "  return mostCommon"
      ]
    },
    {
      "cell_type": "markdown",
      "metadata": {
        "id": "WBKBFU2tpzwe"
      },
      "source": [
        "This helper finds the attribute that results in the best split"
      ]
    },
    {
      "cell_type": "code",
      "execution_count": 105,
      "metadata": {
        "id": "VtDmjBqLmxwK"
      },
      "outputs": [],
      "source": [
        "def findBestSplit(s, weights, atrs, full_attributes, purity_func, printing):\n",
        "  max_info_gain = 0\n",
        "  max_info_gain_atr = atrs[0]\n",
        "  for atr in atrs:\n",
        "    info_gained = find_info_gained(s, weights, atr, full_attributes, purity_func, printing)\n",
        "    if(printing):\n",
        "      print(atr, info_gained)\n",
        "    if(info_gained > max_info_gain):\n",
        "      max_info_gain = info_gained\n",
        "      max_info_gain_atr = atr\n",
        "  return max_info_gain_atr"
      ]
    },
    {
      "cell_type": "markdown",
      "metadata": {
        "id": "5LJIjsQTEKhR"
      },
      "source": [
        "This helper gives the information gained from a single attribute"
      ]
    },
    {
      "cell_type": "code",
      "execution_count": 106,
      "metadata": {
        "id": "YhYDbYvp_2l2"
      },
      "outputs": [],
      "source": [
        "def find_info_gained(s, weights, atr, full_attributes, purity_func, printing):\n",
        "  if(full_attributes[atr]==\"numeric\"):\n",
        "    return find_numeric_info_gained(s, weights, atr, full_attributes, purity_func, printing)\n",
        "  else:\n",
        "    return find_categorical_info_gained(s, weights, atr, full_attributes, purity_func, printing)"
      ]
    },
    {
      "cell_type": "code",
      "execution_count": 107,
      "metadata": {
        "id": "XND5PBr1zKfk"
      },
      "outputs": [],
      "source": [
        "def find_numeric_info_gained(s, weights, atr, full_attributes, purity_func, printing):\n",
        "  atr_ind = list(full_attributes.keys()).index(atr)\n",
        "  #Create dictionary that contains attribute categories and what labels each attribute category has\n",
        "  atr_type_count_dict = {\"low\":[], \"high\":[]}\n",
        "  count = 0\n",
        "  median = statistics.median(x[atr_ind] for x in s)\n",
        "  for i in s:\n",
        "    if i[atr_ind] < median:\n",
        "      atr_type_count_dict[\"low\"].append([i[len(i)-1], weights[count]])\n",
        "    else:\n",
        "      atr_type_count_dict[\"high\"].append([i[len(i)-1], weights[count]])\n",
        "    count += 1\n",
        "  #This puts s into format of (label, weight)\n",
        "  pur_s = []\n",
        "  count = 0\n",
        "  for i in s:\n",
        "    pur_s.append([i[len(i)-1], weights[count]])\n",
        "    count += 1\n",
        "  starting_info = purity_func(pur_s)\n",
        "  if(printing):\n",
        "    print(\"Starting Info: \", starting_info)\n",
        "  weighted_sum = 0\n",
        "  for j in atr_type_count_dict.values():\n",
        "    weighted_sum += sum(i[1] for i in j)/sum(weights)*purity_func(j)\n",
        "  return starting_info-weighted_sum"
      ]
    },
    {
      "cell_type": "code",
      "execution_count": 122,
      "metadata": {
        "id": "opAaRE4DzT2m"
      },
      "outputs": [],
      "source": [
        "def find_categorical_info_gained(s, weights, atr, full_attributes, purity_func, printing):\n",
        "  atr_ind = list(full_attributes.keys()).index(atr)\n",
        "  #Create dictionary that contains attribute categories and what labels each attribute category has\n",
        "  atr_type_count_dict = {}\n",
        "  count = 0\n",
        "  for i in s:\n",
        "    if i[atr_ind] in atr_type_count_dict:\n",
        "      atr_type_count_dict[i[atr_ind]].append([i[len(i)-1], weights[count]])\n",
        "    else:\n",
        "      atr_type_count_dict[i[atr_ind]] = [[i[len(i)-1], weights[count]]]\n",
        "    count += 1\n",
        "  #Use proportions to run info gain function and find total information gain\n",
        "  #This puts s into format of (label, weight)\n",
        "  pur_s = []\n",
        "  count = 0\n",
        "  for i in s:\n",
        "    pur_s.append([i[len(i)-1], weights[count]])\n",
        "    count += 1\n",
        "  starting_info = purity_func(pur_s)\n",
        "  if(printing):\n",
        "    print(\"Starting Info: \", starting_info)\n",
        "  weighted_sum = 0\n",
        "  for j in atr_type_count_dict.values():\n",
        "    if(printing):\n",
        "      print(\"J\", j)\n",
        "    weighted_sum += sum(i[1] for i in j)/sum(weights)*purity_func(j)\n",
        "  return starting_info-weighted_sum"
      ]
    },
    {
      "cell_type": "markdown",
      "metadata": {
        "id": "wUxQ5rE-Szv0"
      },
      "source": [
        "Filters S based on an attribute value to get S_v"
      ]
    },
    {
      "cell_type": "code",
      "execution_count": 109,
      "metadata": {
        "id": "NeAnRSTQR6Vq"
      },
      "outputs": [],
      "source": [
        "def filterSOnAtrVal(s, weights, atr, val, full_attributes, numericFilter):\n",
        "  filtered = []\n",
        "  filteredWeights = []\n",
        "  count = 0\n",
        "  atr_ind = list(full_attributes.keys()).index(atr)\n",
        "  for i in s:\n",
        "    if(numericFilter):\n",
        "      if(val == \"lower than median\"):\n",
        "        if(i[atr_ind] < statistics.median(x[atr_ind] for x in s)):\n",
        "          filtered.append(i)\n",
        "          filteredWeights.append(weights[count])\n",
        "      else:\n",
        "        if(i[atr_ind] >= statistics.median(x[atr_ind] for x in s)):\n",
        "          filtered.append(i)\n",
        "          filteredWeights.append(weights[count])\n",
        "    else:\n",
        "      if(i[atr_ind] == val):\n",
        "        filtered.append(i)\n",
        "        filteredWeights.append(weights[count])\n",
        "    count += 1\n",
        "  return filtered, filteredWeights"
      ]
    },
    {
      "cell_type": "markdown",
      "metadata": {
        "id": "A2U621eCqBQ4"
      },
      "source": [
        "## Purity Functions"
      ]
    },
    {
      "cell_type": "code",
      "execution_count": 110,
      "metadata": {
        "id": "oahUYMhVFHlB"
      },
      "outputs": [],
      "source": [
        "def entropy(labels):\n",
        "  labeldf = pd.DataFrame(labels, columns=[\"Label\", \"Weight\"])\n",
        "  grouped = labeldf.groupby(\"Label\").sum()\n",
        "  #print(grouped)\n",
        "  vec_counts = np.array(grouped).flatten()\n",
        "  vec_props = vec_counts/np.sum(vec_counts)\n",
        "  return -np.dot(vec_props, np.log2(vec_props))"
      ]
    },
    {
      "cell_type": "code",
      "execution_count": 111,
      "metadata": {
        "id": "erYxVgsZ67rk"
      },
      "outputs": [],
      "source": [
        "def GiniInd(labels):\n",
        "  labeldf = pd.DataFrame(labels, columns=[\"Label\", \"Weight\"])\n",
        "  grouped = labeldf.groupby(\"Label\").sum()\n",
        "  vec_counts = np.array(grouped).flatten()\n",
        "  vec_props = vec_counts/np.sum(vec_counts)\n",
        "  return 1-np.dot(vec_props, vec_props)"
      ]
    },
    {
      "cell_type": "code",
      "execution_count": 112,
      "metadata": {
        "id": "MqXgwyGx4X83"
      },
      "outputs": [],
      "source": [
        "def majorityError(labels):\n",
        "  labeldf = pd.DataFrame(labels, columns=[\"Label\", \"Weight\"])\n",
        "  grouped = labeldf.groupby(\"Label\").sum()\n",
        "  vec_counts = np.array(grouped).flatten()\n",
        "  vec_props = vec_counts/np.sum(vec_counts)\n",
        "  vec_props.sort()\n",
        "  return np.sum(vec_props[:len(vec_props)-1])"
      ]
    },
    {
      "cell_type": "markdown",
      "metadata": {
        "id": "bWiM2t5wIYCn"
      },
      "source": [
        "## Display Tree"
      ]
    },
    {
      "cell_type": "code",
      "execution_count": 113,
      "metadata": {
        "id": "FToz-RwzIXy3"
      },
      "outputs": [],
      "source": [
        "def unravelTree(q1, q2, childQ, level):\n",
        "  print(\"~~~~~~~~~~~~~~~~~~~~~~~~~~~~\")\n",
        "  while(not q1.empty()):\n",
        "    node = q1.get()\n",
        "    childThere = childQ.get()\n",
        "    firstChild = True\n",
        "    print(\"ParentVal: \", node.parentVal)\n",
        "    print(\"Label: \", node.label)\n",
        "    if(not childThere):\n",
        "      print(\"----\")\n",
        "    for child in node.children:\n",
        "      q2.put(child)\n",
        "      if(firstChild):\n",
        "        firstChild = False\n",
        "      else:\n",
        "        childQ.put(True)\n",
        "    if(len(node.children)!= 0):\n",
        "      childQ.put(False)\n",
        "  level += 1\n",
        "  q1 = q2\n",
        "  q2 = queue.Queue()\n",
        "  if(q1.empty()):\n",
        "    return\n",
        "  unravelTree(q1, q2, childQ, level)"
      ]
    },
    {
      "cell_type": "markdown",
      "metadata": {},
      "source": [
        "This one creates a tree and returns the root node"
      ]
    },
    {
      "cell_type": "code",
      "execution_count": 114,
      "metadata": {},
      "outputs": [],
      "source": [
        "def createTree(s, rem, full_attr, pur, weights, stop, printing=False):\n",
        "    root = ID3(s, rem, full_attr, pur, None, weights=weights, stopping=stop, printing=printing)\n",
        "    return root"
      ]
    },
    {
      "cell_type": "markdown",
      "metadata": {},
      "source": [
        "This prints a tree"
      ]
    },
    {
      "cell_type": "code",
      "execution_count": 115,
      "metadata": {},
      "outputs": [],
      "source": [
        "def displayTree(root):\n",
        "    q = queue.Queue()\n",
        "    q2 = queue.Queue()\n",
        "    q.put(root)\n",
        "    childQ = queue.Queue()\n",
        "    childQ.put(True)\n",
        "\n",
        "    unravelTree(q, q2, childQ, 0)"
      ]
    },
    {
      "cell_type": "markdown",
      "metadata": {
        "id": "pOrYs8Bwkpme"
      },
      "source": [
        "# Run ID3"
      ]
    },
    {
      "cell_type": "markdown",
      "metadata": {
        "id": "wBqy86xtyphq"
      },
      "source": [
        "## Set Data"
      ]
    },
    {
      "cell_type": "markdown",
      "metadata": {
        "id": "K5tTUnC8ysj8"
      },
      "source": [
        "index = 3\n",
        "s = [s_booltab, s_tennis, s_cartraining, s_banktraining, s_banktraining_filled][index]\n",
        "s_test = [\"\",\"\", s_cartesting, s_banktesting, s_banktraining_filled][index]\n",
        "rem = [remaining_attributes_booltab, remaining_attributes_tennis, remaining_attributes_car, remaining_attributes_bank, remaining_attributes_bank][index]\n",
        "full_attr = [full_attributes_booltab, full_attributes_tennis, full_attributes_car, full_attributes_bank, full_attributes_bank_filled][index]\n",
        "pur = [entropy, GiniInd, majorityError][0]\n",
        "stop = 1"
      ]
    },
    {
      "cell_type": "markdown",
      "metadata": {
        "id": "2KhZx2s_ylDi"
      },
      "source": [
        "## Display Tree"
      ]
    },
    {
      "cell_type": "markdown",
      "metadata": {},
      "source": [
        "weights = np.ones(len(s))\n",
        "print(weights)\n",
        "root = ID3(s, rem, full_attr, pur, None, weights=weights, stopping=stop, printing=True)\n",
        "\n",
        "q = queue.Queue()\n",
        "q2 = queue.Queue()\n",
        "q.put(root)\n",
        "childQ = queue.Queue()\n",
        "childQ.put(True)\n",
        "\n",
        "\n",
        "unravelTree(q, q2, childQ, 0)"
      ]
    },
    {
      "cell_type": "markdown",
      "metadata": {
        "id": "Z3qtgGVRyRpA"
      },
      "source": [
        "## Evaluate Model"
      ]
    },
    {
      "cell_type": "markdown",
      "metadata": {
        "id": "RKgXo64-n0k_"
      },
      "source": [
        "Finds accuracy of model on test data"
      ]
    },
    {
      "cell_type": "code",
      "execution_count": 118,
      "metadata": {
        "id": "9xa5H6q8zKOv"
      },
      "outputs": [],
      "source": [
        "def findAcc(root, test, full_attr):\n",
        "  matched = 0\n",
        "  for i in test:\n",
        "    matched += travTree(root, i, full_attr)\n",
        "  return matched/len(test)"
      ]
    },
    {
      "cell_type": "markdown",
      "metadata": {
        "id": "RreDt2BU4Nbd"
      },
      "source": [
        "Traverses the tree recursively, returns 1 if test label matches model and 0 otherwise"
      ]
    },
    {
      "cell_type": "code",
      "execution_count": 119,
      "metadata": {
        "id": "bbG4Slsh3fkP"
      },
      "outputs": [],
      "source": [
        "def travTree(root, datapoint, full_attr):\n",
        "  #Stopping Condition, root no children\n",
        "  if(len(root.children) == 0):\n",
        "    if(root.label == datapoint[len(datapoint)-1]):\n",
        "      #print(\"matched\")\n",
        "      return 1\n",
        "    else:\n",
        "      #print(\"no match\")\n",
        "      return 0\n",
        "  #Otherwise, traverse down\n",
        "  curr_attr = root.label\n",
        "  do_numeric = False\n",
        "  if(full_attr[curr_attr] == \"numeric\"):\n",
        "    do_numeric = True\n",
        "  #print(\"current attribute: \", curr_attr)\n",
        "  atr_ind = list(full_attr.keys()).index(curr_attr)\n",
        "  for child in root.children:\n",
        "    if(do_numeric):\n",
        "      median = statistics.median(x[atr_ind] for x in root.s)\n",
        "      #print(\"numeric: \", median, \" \", datapoint[atr_ind])\n",
        "      if((datapoint[atr_ind] < median and child.parentVal==\"lower than median\") or (datapoint[atr_ind] >= median and child.parentVal==\"higher than median\")):\n",
        "        return travTree(child, datapoint, full_attr)\n",
        "    else:\n",
        "      if(child.parentVal == datapoint[atr_ind]):\n",
        "        #print(\"Going down on val: \", child.parentVal)\n",
        "        return travTree(child, datapoint, full_attr)"
      ]
    },
    {
      "cell_type": "markdown",
      "metadata": {
        "colab": {
          "base_uri": "https://localhost:8080/"
        },
        "id": "FLYH9pscybJZ",
        "outputId": "67868aea-ea6c-4b2b-990e-0e04f0cb630c"
      },
      "source": [
        "root = ID3(s, rem, full_attr, pur, None, stopping=stop)\n",
        "\n",
        "findAcc(root, s_test, full_attr)"
      ]
    },
    {
      "cell_type": "markdown",
      "metadata": {
        "id": "hQ4vLJFWbe53"
      },
      "source": [
        "# Run Boolean Table"
      ]
    },
    {
      "cell_type": "markdown",
      "metadata": {
        "id": "ZG5Ox54dcMed"
      },
      "source": [
        "## Set Vars"
      ]
    },
    {
      "cell_type": "markdown",
      "metadata": {
        "id": "sa6nlc1Gbjh4"
      },
      "source": [
        "index = 0\n",
        "s = [s_booltab, s_tennis, s_cartraining, s_banktraining, s_banktraining_filled][index]\n",
        "s_test = [\"\",\"\", s_cartesting, s_banktesting, s_banktraining_filled][index]\n",
        "rem = [remaining_attributes_booltab, remaining_attributes_tennis, remaining_attributes_car, remaining_attributes_bank, remaining_attributes_bank][index]\n",
        "full_attr = [full_attributes_booltab, full_attributes_tennis, full_attributes_car, full_attributes_bank, full_attributes_bank_filled][index]\n",
        "pur = [entropy, GiniInd, majorityError][0]\n",
        "stop = math.inf"
      ]
    },
    {
      "cell_type": "markdown",
      "metadata": {
        "id": "I1PzMoDVcO9V"
      },
      "source": [
        "## Run ID3 & Print"
      ]
    },
    {
      "cell_type": "markdown",
      "metadata": {
        "colab": {
          "base_uri": "https://localhost:8080/"
        },
        "id": "JU7ujL3-cLAN",
        "outputId": "54a1cd60-c598-404c-d4c4-0bbc99609c2b"
      },
      "source": [
        "root = ID3(s, rem, full_attr, pur, None, stopping=stop, printing=True)\n",
        "\n",
        "q = queue.Queue()\n",
        "q2 = queue.Queue()\n",
        "q.put(root)\n",
        "childQ = queue.Queue()\n",
        "childQ.put(True)\n",
        "\n",
        "\n",
        "unravelTree(q, q2, childQ, 0)"
      ]
    },
    {
      "cell_type": "markdown",
      "metadata": {
        "id": "hggShLV1J119"
      },
      "source": [
        "# Run Tennis Example"
      ]
    },
    {
      "cell_type": "markdown",
      "metadata": {
        "id": "XD4vgktMJ9TJ"
      },
      "source": [
        "## Set Vars"
      ]
    },
    {
      "cell_type": "markdown",
      "metadata": {
        "id": "ZIkUWnZIJ8aj"
      },
      "source": [
        "index = 1\n",
        "s = [s_booltab, s_tennis, s_cartraining, s_banktraining, s_banktraining_filled][index]\n",
        "s_test = [\"\",\"\", s_cartesting, s_banktesting, s_banktraining_filled][index]\n",
        "rem = [remaining_attributes_booltab, remaining_attributes_tennis, remaining_attributes_car, remaining_attributes_bank, remaining_attributes_bank][index]\n",
        "full_attr = [full_attributes_booltab, full_attributes_tennis, full_attributes_car, full_attributes_bank, full_attributes_bank_filled][index]\n",
        "pur = [entropy, GiniInd, majorityError][0]\n",
        "stop = math.inf"
      ]
    },
    {
      "cell_type": "markdown",
      "metadata": {
        "id": "eekyo8xkKAC3"
      },
      "source": [
        "## Run ID3"
      ]
    },
    {
      "cell_type": "markdown",
      "metadata": {
        "id": "ERPyzOUsKIY1"
      },
      "source": [
        "### Entropy"
      ]
    },
    {
      "cell_type": "markdown",
      "metadata": {
        "colab": {
          "base_uri": "https://localhost:8080/"
        },
        "id": "pEGhdR7YKOlr",
        "outputId": "ec0ec1fc-c4da-4487-8299-cc200e6095dc"
      },
      "source": [
        "root = ID3(s, rem, full_attr, entropy, None, stopping=stop, printing=True)\n",
        "\n",
        "q = queue.Queue()\n",
        "q2 = queue.Queue()\n",
        "q.put(root)\n",
        "childQ = queue.Queue()\n",
        "childQ.put(True)\n",
        "\n",
        "\n",
        "unravelTree(q, q2, childQ, 0)"
      ]
    },
    {
      "cell_type": "markdown",
      "metadata": {
        "id": "I5GrU3yYKKRR"
      },
      "source": [
        "### Gini Index"
      ]
    },
    {
      "cell_type": "markdown",
      "metadata": {
        "colab": {
          "base_uri": "https://localhost:8080/"
        },
        "id": "3X2eKMdzKWex",
        "outputId": "56e28fdb-2635-48d0-bac2-ad44e3e1fe75"
      },
      "source": [
        "root = ID3(s, rem, full_attr, GiniInd, None, stopping=stop, printing=True)\n",
        "\n",
        "q = queue.Queue()\n",
        "q2 = queue.Queue()\n",
        "q.put(root)\n",
        "childQ = queue.Queue()\n",
        "childQ.put(True)\n",
        "\n",
        "\n",
        "unravelTree(q, q2, childQ, 0)"
      ]
    },
    {
      "cell_type": "markdown",
      "metadata": {
        "id": "OOYN9Mt6KL1Q"
      },
      "source": [
        "### Majority Error"
      ]
    },
    {
      "cell_type": "markdown",
      "metadata": {
        "colab": {
          "base_uri": "https://localhost:8080/"
        },
        "id": "XRCNzKFTKY7k",
        "outputId": "ea00e28b-9350-4e6d-8d7e-72450279bd8d"
      },
      "source": [
        "root = ID3(s, rem, full_attr, majorityError, None, stopping=stop, printing=True)\n",
        "\n",
        "q = queue.Queue()\n",
        "q2 = queue.Queue()\n",
        "q.put(root)\n",
        "childQ = queue.Queue()\n",
        "childQ.put(True)\n",
        "\n",
        "\n",
        "unravelTree(q, q2, childQ, 0)"
      ]
    },
    {
      "cell_type": "markdown",
      "metadata": {
        "id": "rpf0XKFR0BNW"
      },
      "source": [
        "#Using modified Tennis Example"
      ]
    },
    {
      "cell_type": "code",
      "execution_count": 120,
      "metadata": {
        "id": "gRKDRMJx0FNv"
      },
      "outputs": [],
      "source": [
        "s_tennis_modified = [[\"sunny\", \"hot\", \"high\", \"weak\", \"-\"],\n",
        "     [\"sunny\", \"hot\", \"high\", \"strong\", \"-\"],\n",
        "     [\"overcast\", \"hot\", \"high\", \"weak\", \"+\"],\n",
        "     [\"rainy\", \"mild\", \"high\", \"weak\", \"+\"],\n",
        "     [\"rainy\", \"cool\", \"normal\", \"weak\", \"+\"],\n",
        "     [\"rainy\", \"cool\", \"normal\", \"strong\", \"-\"],\n",
        "     [\"overcast\", \"cool\", \"normal\", \"strong\", \"+\"],\n",
        "     [\"sunny\", \"mild\", \"high\", \"weak\", \"-\"],\n",
        "     [\"sunny\", \"cool\", \"normal\", \"weak\", \"+\"],\n",
        "     [\"rainy\", \"mild\", \"normal\", \"weak\", \"+\"],\n",
        "     [\"sunny\", \"mild\", \"normal\", \"strong\", \"+\"],\n",
        "     [\"overcast\", \"mild\", \"high\", \"strong\", \"+\"],\n",
        "     [\"overcast\", \"hot\", \"normal\", \"weak\", \"+\"],\n",
        "     [\"rainy\", \"mild\", \"high\", \"strong\", \"-\"],\n",
        "     #Modifications buddy\n",
        "     [\"overcast\", \"mild\", \"normal\", \"weak\", \"+\"]]"
      ]
    },
    {
      "cell_type": "markdown",
      "metadata": {
        "colab": {
          "base_uri": "https://localhost:8080/"
        },
        "id": "h7i7mENE0Jcv",
        "outputId": "63715812-6cfd-4440-b2ab-ff7e03f6e9f2"
      },
      "source": [
        "root = ID3(s_tennis_modified, rem, full_attr, entropy, None, stopping=stop, printing=True)\n",
        "\n",
        "q = queue.Queue()\n",
        "q2 = queue.Queue()\n",
        "q.put(root)\n",
        "childQ = queue.Queue()\n",
        "childQ.put(True)\n",
        "\n",
        "\n",
        "unravelTree(q, q2, childQ, 0)"
      ]
    },
    {
      "cell_type": "markdown",
      "metadata": {
        "id": "sFDVjA9cOP0W"
      },
      "source": [
        "# Used to help with fractional counts"
      ]
    },
    {
      "cell_type": "markdown",
      "metadata": {
        "id": "BugfuZJJOTfB"
      },
      "source": [
        "def entropyWeighted(positive, negative):\n",
        "  whole = positive + negative\n",
        "  return (-(positive/whole)*math.log2(positive/whole) if positive/whole > 0 else 0)-((negative/whole)*math.log2(negative/whole) if negative/whole > 0 else 0)"
      ]
    },
    {
      "cell_type": "markdown",
      "metadata": {
        "colab": {
          "base_uri": "https://localhost:8080/"
        },
        "id": "Caxk69jwOzZI",
        "outputId": "9400be64-1a51-4056-c718-9a84f7580cb7"
      },
      "source": [
        "entropyWeighted(3+5/14, 2)"
      ]
    },
    {
      "cell_type": "markdown",
      "metadata": {
        "colab": {
          "base_uri": "https://localhost:8080/"
        },
        "id": "QXIUa6AKO4A0",
        "outputId": "831d9ae4-ff5a-4acf-8a5d-29351855d576"
      },
      "source": [
        "poss = [3+5/14, 2+5/14]\n",
        "negs = [1, 1]\n",
        "S = 15\n",
        "summ = 0\n",
        "for i in range(len(poss)):\n",
        "  S_v = poss[i] + negs[i]\n",
        "  print(\"Pos: \", poss[i], \" Neg: \", negs[i], \" entropy weighted: \", (S_v)/S*entropyWeighted(poss[i], negs[i]))\n",
        "  summ += (S_v)/S*entropyWeighted(poss[i], negs[i])\n",
        "summ"
      ]
    },
    {
      "cell_type": "markdown",
      "metadata": {
        "id": "vcRyX2hUVE4O"
      },
      "source": [
        "# Car Example problem 2"
      ]
    },
    {
      "cell_type": "markdown",
      "metadata": {
        "id": "T7mBFx5GVSpm"
      },
      "source": [
        "## Set Data"
      ]
    },
    {
      "cell_type": "markdown",
      "metadata": {
        "id": "rMSJnCX2WL9k"
      },
      "source": [
        "can set stop to halt tree growth after a certain number of steps"
      ]
    },
    {
      "cell_type": "markdown",
      "metadata": {
        "id": "I210c7RRVPba"
      },
      "source": [
        "index = 2\n",
        "s = [s_booltab, s_tennis, s_cartraining, s_banktraining, s_banktraining_filled][index]\n",
        "s_test = [\"\",\"\", s_cartesting, s_banktesting, s_banktraining_filled][index]\n",
        "rem = [remaining_attributes_booltab, remaining_attributes_tennis, remaining_attributes_car, remaining_attributes_bank, remaining_attributes_bank][index]\n",
        "full_attr = [full_attributes_booltab, full_attributes_tennis, full_attributes_car, full_attributes_bank, full_attributes_bank_filled][index]\n",
        "pur = [entropy, GiniInd, majorityError][0]\n",
        "stop = 4"
      ]
    },
    {
      "cell_type": "markdown",
      "metadata": {
        "id": "YX00dZ5-ViZM"
      },
      "source": [
        "## Running with entropy"
      ]
    },
    {
      "cell_type": "markdown",
      "metadata": {
        "colab": {
          "base_uri": "https://localhost:8080/"
        },
        "id": "WtnhCUtIVXSg",
        "outputId": "a4a40b90-91cc-4fa0-8268-3230c3faccb1"
      },
      "source": [
        "root = ID3(s, rem, full_attr, entropy, None, stopping=stop)\n",
        "\n",
        "findAcc(root, s_test, full_attr)"
      ]
    },
    {
      "cell_type": "markdown",
      "metadata": {
        "id": "ULnqy2oTVmmD"
      },
      "source": [
        "## Running with gini index"
      ]
    },
    {
      "cell_type": "markdown",
      "metadata": {
        "colab": {
          "base_uri": "https://localhost:8080/"
        },
        "id": "X5sZdau8VyQh",
        "outputId": "6200c99a-4ab5-4194-8c1f-1b94b86d06ba"
      },
      "source": [
        "root = ID3(s, rem, full_attr, GiniInd, None, stopping=stop)\n",
        "\n",
        "findAcc(root, s_test, full_attr)"
      ]
    },
    {
      "cell_type": "markdown",
      "metadata": {
        "id": "sg-eGjz5V97v"
      },
      "source": [
        "## Running with majority error"
      ]
    },
    {
      "cell_type": "markdown",
      "metadata": {
        "colab": {
          "base_uri": "https://localhost:8080/"
        },
        "id": "OlxjfModV36j",
        "outputId": "6f80853e-c1d2-4958-9e16-985b864193ba"
      },
      "source": [
        "root = ID3(s, rem, full_attr, majorityError, None, stopping=stop)\n",
        "\n",
        "findAcc(root, s_test, full_attr)"
      ]
    },
    {
      "cell_type": "markdown",
      "metadata": {
        "id": "j0DQWT-yWacl"
      },
      "source": [
        "## Running through all levels & purity functions"
      ]
    },
    {
      "cell_type": "markdown",
      "metadata": {
        "colab": {
          "base_uri": "https://localhost:8080/"
        },
        "id": "1Ldlve2DWedb",
        "outputId": "b610de3e-9d9d-4f86-8ef7-0950fd56e983"
      },
      "source": [
        "for purity in range(0, 3):\n",
        "  print(\"~~~~~~~~~~~~~~~~~~~~~~~~~\")\n",
        "  print(\"Using:\", [\"entropy\", \"GiniInd\", \"majorityError\"][purity])\n",
        "  for i in range(1, 7):\n",
        "    root = ID3(s, rem, full_attr, [entropy, GiniInd, majorityError][purity], None, stopping=i)\n",
        "    accTest = 1-findAcc(root, s_test, full_attr)\n",
        "    accTrain = 1-findAcc(root, s, full_attr)\n",
        "    print(\"Stopping at\", i, \"obtains test error\", accTest, \"and training error\", accTrain)"
      ]
    },
    {
      "cell_type": "markdown",
      "metadata": {
        "id": "pYEb-B5-ZXhu"
      },
      "source": [
        "# Bank Example Problem 3"
      ]
    },
    {
      "cell_type": "markdown",
      "metadata": {
        "id": "tfZdoSGQ03be"
      },
      "source": [
        "## Unknowns as a value"
      ]
    },
    {
      "cell_type": "markdown",
      "metadata": {
        "id": "N1VxNK6TZkQa"
      },
      "source": [
        "index = 3\n",
        "s = [s_booltab, s_tennis, s_cartraining, s_banktraining, s_banktraining_filled][index]\n",
        "s_test = [\"\",\"\", s_cartesting, s_banktesting, s_banktraining_filled][index]\n",
        "rem = [remaining_attributes_booltab, remaining_attributes_tennis, remaining_attributes_car, remaining_attributes_bank, remaining_attributes_bank][index]\n",
        "full_attr = [full_attributes_booltab, full_attributes_tennis, full_attributes_car, full_attributes_bank, full_attributes_bank_filled][index]\n",
        "pur = [entropy, GiniInd, majorityError][0]\n",
        "stop = 4"
      ]
    },
    {
      "cell_type": "markdown",
      "metadata": {
        "colab": {
          "base_uri": "https://localhost:8080/"
        },
        "id": "0eTDSYL_ZgGs",
        "outputId": "ff59a116-7c3a-4a94-e96b-702a22d2a6e1"
      },
      "source": [
        "for purity in range(0, 3):\n",
        "  print(\"~~~~~~~~~~~~~~~~~~~~~~~~~\")\n",
        "  print(\"Using:\", [\"entropy\", \"GiniInd\", \"majorityError\"][purity])\n",
        "  for i in range(1, 17):\n",
        "    root = ID3(s, rem, full_attr, [entropy, GiniInd, majorityError][purity], None, stopping=i)\n",
        "    accTest = 1-findAcc(root, s_test, full_attr)\n",
        "    accTrain = 1-findAcc(root, s, full_attr)\n",
        "    print(\"Stopping at\", i, \"obtains test error\", accTest, \"and training error\", accTrain)\n",
        "    "
      ]
    },
    {
      "cell_type": "markdown",
      "metadata": {
        "id": "F-oeBOlQywfe"
      },
      "source": [
        "## Car with unknowns filled"
      ]
    },
    {
      "cell_type": "markdown",
      "metadata": {
        "id": "FceYwyB9y2yb"
      },
      "source": [
        "index = 4\n",
        "s = [s_booltab, s_tennis, s_cartraining, s_banktraining, s_banktraining_filled][index]\n",
        "s_test = [\"\",\"\", s_cartesting, s_banktesting, s_banktesting_filled][index]\n",
        "rem = [remaining_attributes_booltab, remaining_attributes_tennis, remaining_attributes_car, remaining_attributes_bank, remaining_attributes_bank][index]\n",
        "full_attr = [full_attributes_booltab, full_attributes_tennis, full_attributes_car, full_attributes_bank, full_attributes_bank_filled][index]\n",
        "pur = [entropy, GiniInd, majorityError][0]\n",
        "stop = 4"
      ]
    },
    {
      "cell_type": "markdown",
      "metadata": {
        "colab": {
          "base_uri": "https://localhost:8080/"
        },
        "id": "jAYsURXWy0a6",
        "outputId": "fc08f91f-0d3b-424d-cf22-9978aae86c22"
      },
      "source": [
        "for purity in range(0, 3):\n",
        "  print(\"~~~~~~~~~~~~~~~~~~~~~~~~~\")\n",
        "  print(\"Using:\", [\"entropy\", \"GiniInd\", \"majorityError\"][purity])\n",
        "  for i in range(1, 17):\n",
        "    root = ID3(s, rem, full_attr, [entropy, GiniInd, majorityError][purity], None, stopping=i)\n",
        "    accTest = 1-findAcc(root, s_test, full_attr)\n",
        "    accTrain = 1-findAcc(root, s, full_attr)\n",
        "    print(\"Stopping at\", i, \"obtains test error\", accTest, \"and training error\", accTrain)"
      ]
    }
  ],
  "metadata": {
    "colab": {
      "authorship_tag": "ABX9TyO7H8MARSh/e1+NFW11auiW",
      "collapsed_sections": [
        "LxP-BcF9qfKR",
        "EM7i6XVIqq57",
        "bWiM2t5wIYCn",
        "2KhZx2s_ylDi",
        "hQ4vLJFWbe53",
        "I1PzMoDVcO9V",
        "hggShLV1J119",
        "eekyo8xkKAC3",
        "ERPyzOUsKIY1",
        "I5GrU3yYKKRR",
        "OOYN9Mt6KL1Q",
        "rpf0XKFR0BNW"
      ],
      "include_colab_link": true,
      "provenance": []
    },
    "kernelspec": {
      "display_name": "Python 3",
      "name": "python3"
    },
    "language_info": {
      "codemirror_mode": {
        "name": "ipython",
        "version": 3
      },
      "file_extension": ".py",
      "mimetype": "text/x-python",
      "name": "python",
      "nbconvert_exporter": "python",
      "pygments_lexer": "ipython3",
      "version": "3.10.11"
    }
  },
  "nbformat": 4,
  "nbformat_minor": 0
}

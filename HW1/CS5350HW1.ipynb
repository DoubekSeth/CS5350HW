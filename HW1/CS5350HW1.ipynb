{
  "nbformat": 4,
  "nbformat_minor": 0,
  "metadata": {
    "colab": {
      "provenance": [],
      "authorship_tag": "ABX9TyNwkLLQDuwq+eRARqr8SXWH",
      "include_colab_link": true
    },
    "kernelspec": {
      "name": "python3",
      "display_name": "Python 3"
    },
    "language_info": {
      "name": "python"
    }
  },
  "cells": [
    {
      "cell_type": "markdown",
      "metadata": {
        "id": "view-in-github",
        "colab_type": "text"
      },
      "source": [
        "<a href=\"https://colab.research.google.com/github/DoubekSeth/CS5350HW/blob/main/CS5350HW1.ipynb\" target=\"_parent\"><img src=\"https://colab.research.google.com/assets/colab-badge.svg\" alt=\"Open In Colab\"/></a>"
      ]
    },
    {
      "cell_type": "code",
      "source": [
        "from collections import Counter"
      ],
      "metadata": {
        "id": "d6EZ_pVgdJy0"
      },
      "execution_count": null,
      "outputs": []
    },
    {
      "cell_type": "markdown",
      "source": [
        "Creating Basic ID3 algorithm"
      ],
      "metadata": {
        "id": "U8E1T7XuLai5"
      }
    },
    {
      "cell_type": "code",
      "execution_count": null,
      "metadata": {
        "id": "jMW4u4fcKCCE"
      },
      "outputs": [],
      "source": [
        "class Node:\n",
        "\n",
        "  def __init__(self, s, atrs, parent=None, label=None):\n",
        "    self.s = s\n",
        "    self.atrs = atrs\n",
        "    self.parent = parent\n",
        "    self.label = label"
      ]
    },
    {
      "cell_type": "code",
      "source": [
        "def ID3(s, remaining_attributes, full_attributes, info_gain_func, parentNode):\n",
        "  #First, check if all training examples s have same label. First stopping condition\n",
        "  if(labelSame(s)[0]):\n",
        "    return Node(s, remaining_attributes, parent=parentNode, label=labelSame(s)[1])\n",
        "  #Second, check if exhausted attributes and if so return leaf node with most common label. Second stopping condition\n",
        "  if(len(remaining_attributes) == 0):\n",
        "    return Node(s, remaining_attributes, parent=parentNode, label=mostCommonLabel(s, 1)[0][0])\n",
        "  #If didn't stop, then we can move onto the main part of the algorithm\n",
        "  #Find attribute best splits S\n",
        "  bestAtr = findBestSplit(s, remaining_attributes, full_attributes, info_gain_func)"
      ],
      "metadata": {
        "id": "8ohC663wMYYp"
      },
      "execution_count": null,
      "outputs": []
    },
    {
      "cell_type": "markdown",
      "source": [
        "Does two functions, first returns true if all labels are the same for s. Second returns the label if all labels are same or else returns none"
      ],
      "metadata": {
        "id": "98_lLelDbvZP"
      }
    },
    {
      "cell_type": "code",
      "source": [
        "def labelSame(s):\n",
        "  label = s[0][len(s[0])-1]\n",
        "  for i in s:\n",
        "    if(i[len(i)-1] != label):\n",
        "      return False, None\n",
        "  return True, label"
      ],
      "metadata": {
        "id": "MhLUNxq3XA_L"
      },
      "execution_count": null,
      "outputs": []
    },
    {
      "cell_type": "markdown",
      "source": [
        "Another helper function, returns the n most common label in s"
      ],
      "metadata": {
        "id": "OGDsSdPxld2e"
      }
    },
    {
      "cell_type": "code",
      "source": [
        "def mostCommonLabel(s, n):\n",
        "  labels = []\n",
        "  for i in s:\n",
        "    labels.append(i[len(i)-1])\n",
        "  #Find most common label out of all the labels\n",
        "  mostCommon = Counter(labels).most_common(n)\n",
        "  return mostCommon"
      ],
      "metadata": {
        "id": "MsU5wdDfcJQ6"
      },
      "execution_count": null,
      "outputs": []
    },
    {
      "cell_type": "markdown",
      "source": [
        "This helper finds the attribute that results in the best split"
      ],
      "metadata": {
        "id": "WBKBFU2tpzwe"
      }
    },
    {
      "cell_type": "code",
      "source": [
        "def findBestSplit(s, atrs, full_attributes, info_gain_func):\n",
        "  max_info_gain = 0\n",
        "  max_info_gain_atr = \"\"\n",
        "  for atr in atrs:\n",
        "    info_gained = info_gain_func(s, atr, full_attributes)\n",
        "    if(info_gained > max_info_gain):\n",
        "      max_info_gain = info_gained\n",
        "      max_info_gain_atr = atr\n",
        "  return max_info_gain_atr"
      ],
      "metadata": {
        "id": "VtDmjBqLmxwK"
      },
      "execution_count": null,
      "outputs": []
    },
    {
      "cell_type": "markdown",
      "source": [
        "One of the info gain functions"
      ],
      "metadata": {
        "id": "A2U621eCqBQ4"
      }
    },
    {
      "cell_type": "code",
      "source": [
        "def entropy(s, atr, full_attributes):\n",
        "  atr_ind = full_attributes.index(atr)\n",
        "  atr_props = {}\n",
        "  for i in s:\n",
        "    atr_props[i[atr_ind]] ="
      ],
      "metadata": {
        "colab": {
          "base_uri": "https://localhost:8080/",
          "height": 140
        },
        "id": "UCbuyp5uoBm2",
        "outputId": "c7266b66-19b1-4c2f-ebd3-561565fa38c6"
      },
      "execution_count": null,
      "outputs": [
        {
          "output_type": "error",
          "ename": "SyntaxError",
          "evalue": "ignored",
          "traceback": [
            "\u001b[0;36m  File \u001b[0;32m\"<ipython-input-7-cf4f22df54b2>\"\u001b[0;36m, line \u001b[0;32m5\u001b[0m\n\u001b[0;31m    atr_props[i[atr_ind]] =\u001b[0m\n\u001b[0m                             ^\u001b[0m\n\u001b[0;31mSyntaxError\u001b[0m\u001b[0;31m:\u001b[0m invalid syntax\n"
          ]
        }
      ]
    },
    {
      "cell_type": "code",
      "source": [
        "entropy(s, \"wind\", attributes)"
      ],
      "metadata": {
        "id": "DmCZoeCOqOPq"
      },
      "execution_count": null,
      "outputs": []
    },
    {
      "cell_type": "code",
      "source": [
        "mostCommonLabel(s, None)"
      ],
      "metadata": {
        "id": "zMmiU-s-dna4"
      },
      "execution_count": null,
      "outputs": []
    },
    {
      "cell_type": "code",
      "source": [
        "s = [[\"sunny\", \"hot\", \"high\", \"weak\", \"-\"],\n",
        "     [\"sunny\", \"hot\", \"high\", \"strong\", \"-\"],\n",
        "     [\"overcast\", \"hot\", \"high\", \"weak\", \"+\"],\n",
        "     [\"rainy\", \"mild\", \"high\", \"weak\", \"+\"],\n",
        "     [\"rainy\", \"cool\", \"normal\", \"weak\", \"+\"],\n",
        "     [\"rainy\", \"cool\", \"normal\", \"strong\", \"-\"],\n",
        "     [\"overcast\", \"cool\", \"normal\", \"strong\", \"+\"],\n",
        "     [\"sunny\", \"mild\", \"high\", \"weak\", \"-\"],\n",
        "     [\"sunny\", \"cool\", \"normal\", \"weak\", \"+\"],\n",
        "     [\"rainy\", \"mild\", \"normal\", \"weak\", \"+\"],\n",
        "     [\"sunny\", \"mild\", \"normal\", \"strong\", \"+\"],\n",
        "     [\"overcast\", \"mild\", \"high\", \"strong\", \"+\"],\n",
        "     [\"overcast\", \"hot\", \"normal\", \"weak\", \"+\"],\n",
        "     [\"rainy\", \"mild\", \"high\", \"strong\", \"-\"]]\n",
        "attributes = [\"outlook\", \"temperature\", \"humidity\", \"wind\"]\n",
        "info_gain_func = 2\n",
        "rootNode = None\n",
        "#ID3(s, attributes, info_gain_func, rootNode)"
      ],
      "metadata": {
        "id": "Txyppxc6aoFs"
      },
      "execution_count": null,
      "outputs": []
    }
  ]
}

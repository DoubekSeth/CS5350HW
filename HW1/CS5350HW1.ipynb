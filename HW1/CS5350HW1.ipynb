{
  "nbformat": 4,
  "nbformat_minor": 0,
  "metadata": {
    "colab": {
      "provenance": [],
      "authorship_tag": "ABX9TyPJvJ9P3IryQ3LMx3WuX0iK",
      "include_colab_link": true
    },
    "kernelspec": {
      "name": "python3",
      "display_name": "Python 3"
    },
    "language_info": {
      "name": "python"
    }
  },
  "cells": [
    {
      "cell_type": "markdown",
      "metadata": {
        "id": "view-in-github",
        "colab_type": "text"
      },
      "source": [
        "<a href=\"https://colab.research.google.com/github/DoubekSeth/CS5350HW/blob/main/HW1/CS5350HW1.ipynb\" target=\"_parent\"><img src=\"https://colab.research.google.com/assets/colab-badge.svg\" alt=\"Open In Colab\"/></a>"
      ]
    },
    {
      "cell_type": "code",
      "source": [
        "from collections import Counter\n",
        "import queue\n",
        "import numpy as np"
      ],
      "metadata": {
        "id": "d6EZ_pVgdJy0"
      },
      "execution_count": 1,
      "outputs": []
    },
    {
      "cell_type": "markdown",
      "source": [
        "Creating Basic ID3 algorithm"
      ],
      "metadata": {
        "id": "U8E1T7XuLai5"
      }
    },
    {
      "cell_type": "code",
      "execution_count": 2,
      "metadata": {
        "id": "jMW4u4fcKCCE"
      },
      "outputs": [],
      "source": [
        "class Node:\n",
        "  def __init__(self, s, atrs, parent=None, parentVal=None, label=None):\n",
        "    self.s = s\n",
        "    self.atrs = atrs\n",
        "    self.parent = parent\n",
        "    self.label = label\n",
        "    self.children = []\n",
        "    self.parentVal = parentVal\n",
        "\n",
        "  def addChild(self, node):\n",
        "    self.children.append(node)"
      ]
    },
    {
      "cell_type": "code",
      "source": [
        "def ID3(s, remaining_attributes, full_attributes, purity_func, parentNode):\n",
        "  #First, check if all training examples s have same label. First stopping condition\n",
        "  if(labelSame(s)[0]):\n",
        "    #print(\"Same Label\", s)\n",
        "    parentNode.label = labelSame(s)[1]\n",
        "    return\n",
        "  #Second, check if exhausted attributes and if so return leaf node with most common label. Second stopping condition\n",
        "  if(len(remaining_attributes) == 0):\n",
        "    #print(\"Exhausted Attributes\", s)\n",
        "    parentNode.label = mostCommonLabel(s, 1)[0][0]\n",
        "    return\n",
        "  #If didn't stop, then we can move onto the main part of the algorithm\n",
        "  #Create root if we don't have one\n",
        "  if(parentNode==None):\n",
        "    parentNode = Node(s=s, atrs=remaining_attributes, parent=None)\n",
        "  #Find attribute best splits S\n",
        "  bestAtr = findBestSplit(s, remaining_attributes, full_attributes, purity_func)\n",
        "  parentNode.label = bestAtr\n",
        "  #print(bestAtr)\n",
        "  less_remaining_attributes = remaining_attributes[:]\n",
        "  less_remaining_attributes.remove(bestAtr)\n",
        "  #Go thru all values for best attribute\n",
        "  for val in full_attributes[bestAtr]:\n",
        "    s_v = filterSOnAtrVal(s, bestAtr, val, full_attributes)\n",
        "    #Check if s_v empty\n",
        "    if(len(s_v)==0):\n",
        "      #print(\"S_v empty\", val)\n",
        "      newNode = Node(s=s, atrs=less_remaining_attributes, parent=parentNode, parentVal=val, label=mostCommonLabel(s, 1)[0][0])\n",
        "      parentNode.addChild(newNode)\n",
        "      return newNode\n",
        "    else:\n",
        "      newNode = Node(s=s_v, atrs=less_remaining_attributes, parent=parentNode, parentVal=val)\n",
        "      #print(\"New node\", val)\n",
        "      parentNode.addChild(newNode)\n",
        "      ID3(s_v, less_remaining_attributes, full_attributes, purity_func, newNode)\n",
        "  return parentNode"
      ],
      "metadata": {
        "id": "8ohC663wMYYp"
      },
      "execution_count": 50,
      "outputs": []
    },
    {
      "cell_type": "markdown",
      "source": [
        "Does two functions, first returns true if all labels are the same for s. Second returns the label if all labels are same or else returns none"
      ],
      "metadata": {
        "id": "98_lLelDbvZP"
      }
    },
    {
      "cell_type": "code",
      "source": [
        "def labelSame(s):\n",
        "  label = s[0][len(s[0])-1]\n",
        "  for i in s:\n",
        "    if(i[len(i)-1] != label):\n",
        "      return False, None\n",
        "  return True, label"
      ],
      "metadata": {
        "id": "MhLUNxq3XA_L"
      },
      "execution_count": 4,
      "outputs": []
    },
    {
      "cell_type": "markdown",
      "source": [
        "Another helper function, returns the n most common label in s"
      ],
      "metadata": {
        "id": "OGDsSdPxld2e"
      }
    },
    {
      "cell_type": "code",
      "source": [
        "def mostCommonLabel(s, n):\n",
        "  labels = []\n",
        "  for i in s:\n",
        "    labels.append(i[len(i)-1])\n",
        "  #Find most common label out of all the labels\n",
        "  mostCommon = Counter(labels).most_common(n)\n",
        "  return mostCommon"
      ],
      "metadata": {
        "id": "MsU5wdDfcJQ6"
      },
      "execution_count": 5,
      "outputs": []
    },
    {
      "cell_type": "markdown",
      "source": [
        "This helper finds the attribute that results in the best split"
      ],
      "metadata": {
        "id": "WBKBFU2tpzwe"
      }
    },
    {
      "cell_type": "code",
      "source": [
        "def findBestSplit(s, atrs, full_attributes, purity_func):\n",
        "  max_info_gain = 0\n",
        "  max_info_gain_atr = \"\"\n",
        "  for atr in atrs:\n",
        "    info_gained = find_info_gained(s, atr, full_attributes, purity_func)\n",
        "    if(info_gained > max_info_gain):\n",
        "      max_info_gain = info_gained\n",
        "      max_info_gain_atr = atr\n",
        "  return max_info_gain_atr"
      ],
      "metadata": {
        "id": "VtDmjBqLmxwK"
      },
      "execution_count": 6,
      "outputs": []
    },
    {
      "cell_type": "markdown",
      "source": [
        "This helper gives the information gained from a single attribute"
      ],
      "metadata": {
        "id": "5LJIjsQTEKhR"
      }
    },
    {
      "cell_type": "code",
      "source": [
        "def find_info_gained(s, atr, full_attributes, purity_func):\n",
        "  atr_ind = list(full_attributes.keys()).index(atr)\n",
        "  #Create dictionary that contains attribute categories and what labels each attribute category has\n",
        "  atr_type_count_dict = {}\n",
        "  for i in s:\n",
        "    if i[atr_ind] in atr_type_count_dict:\n",
        "      atr_type_count_dict[i[atr_ind]].append(i[len(i)-1])\n",
        "    else:\n",
        "      atr_type_count_dict[i[atr_ind]] = [i[len(i)-1]]\n",
        "  #Use proportions to run info gain function and find total information gain\n",
        "  starting_info = purity_func(list(x[len(x)-1] for x in s))\n",
        "  weighted_sum = 0\n",
        "  for j in atr_type_count_dict.values():\n",
        "    weighted_sum += len(j)/len(s)*purity_func(j)\n",
        "  return starting_info-weighted_sum"
      ],
      "metadata": {
        "id": "YhYDbYvp_2l2"
      },
      "execution_count": 7,
      "outputs": []
    },
    {
      "cell_type": "markdown",
      "source": [
        "Filters S based on an attribute value to get S_v"
      ],
      "metadata": {
        "id": "wUxQ5rE-Szv0"
      }
    },
    {
      "cell_type": "code",
      "source": [
        "def filterSOnAtrVal(s, atr, val, full_attributes):\n",
        "  filtered = []\n",
        "  atr_ind = list(full_attributes.keys()).index(atr)\n",
        "  for i in s:\n",
        "    if(i[atr_ind] == val):\n",
        "      filtered.append(i)\n",
        "  return filtered"
      ],
      "metadata": {
        "id": "NeAnRSTQR6Vq"
      },
      "execution_count": 8,
      "outputs": []
    },
    {
      "cell_type": "markdown",
      "source": [
        "Below are all purity functions, they simply take in a list of labels and output"
      ],
      "metadata": {
        "id": "A2U621eCqBQ4"
      }
    },
    {
      "cell_type": "code",
      "source": [
        "def entropy(labels):\n",
        "  vec_counts = np.array(list(Counter(labels).values()))\n",
        "  vec_props = vec_counts/np.sum(vec_counts)\n",
        "  return -np.dot(vec_props, np.log2(vec_props))"
      ],
      "metadata": {
        "id": "oahUYMhVFHlB"
      },
      "execution_count": 9,
      "outputs": []
    },
    {
      "cell_type": "markdown",
      "source": [
        "Below is the code to unravel a tree and make it presentable"
      ],
      "metadata": {
        "id": "bWiM2t5wIYCn"
      }
    },
    {
      "cell_type": "code",
      "source": [
        "def unravelTree(q1, q2, childQ, level):\n",
        "  print(\"~~~~~~~~~~~~~~~~~~~~~~~~~~~~\")\n",
        "  while(not q1.empty()):\n",
        "    node = q1.get()\n",
        "    childThere = childQ.get()\n",
        "    firstChild = True\n",
        "    print(\"ParentVal: \", node.parentVal)\n",
        "    print(\"Label: \", node.label)\n",
        "    if(not childThere):\n",
        "      print(\"----\")\n",
        "    for child in node.children:\n",
        "      q2.put(child)\n",
        "      if(firstChild):\n",
        "        firstChild = False\n",
        "      else:\n",
        "        childQ.put(True)\n",
        "    if(len(node.children)!= 0):\n",
        "      childQ.put(False)\n",
        "  level += 1\n",
        "  q1 = q2\n",
        "  q2 = queue.Queue()\n",
        "  if(q1.empty()):\n",
        "    return\n",
        "  unravelTree(q1, q2, childQ, level)"
      ],
      "metadata": {
        "id": "FToz-RwzIXy3"
      },
      "execution_count": 48,
      "outputs": []
    },
    {
      "cell_type": "code",
      "source": [
        "s = [[\"sunny\", \"hot\", \"high\", \"weak\", \"-\"],\n",
        "     [\"sunny\", \"hot\", \"high\", \"strong\", \"-\"],\n",
        "     [\"overcast\", \"hot\", \"high\", \"weak\", \"+\"],\n",
        "     [\"rainy\", \"mild\", \"high\", \"weak\", \"+\"],\n",
        "     [\"rainy\", \"cool\", \"normal\", \"weak\", \"+\"],\n",
        "     [\"rainy\", \"cool\", \"normal\", \"strong\", \"-\"],\n",
        "     [\"overcast\", \"cool\", \"normal\", \"strong\", \"+\"],\n",
        "     [\"sunny\", \"mild\", \"high\", \"weak\", \"-\"],\n",
        "     [\"sunny\", \"cool\", \"normal\", \"weak\", \"+\"],\n",
        "     [\"rainy\", \"mild\", \"normal\", \"weak\", \"+\"],\n",
        "     [\"sunny\", \"mild\", \"normal\", \"strong\", \"+\"],\n",
        "     [\"overcast\", \"mild\", \"high\", \"strong\", \"+\"],\n",
        "     [\"overcast\", \"hot\", \"normal\", \"weak\", \"+\"],\n",
        "     [\"rainy\", \"mild\", \"high\", \"strong\", \"-\"]]\n",
        "full_attributes = {\"outlook\":[\"sunny\", \"overcast\", \"rainy\"], \"temperature\":[\"hot\", \"mild\", \"cool\"], \"humidity\":[\"high\", \"normal\", \"low\"], \"wind\":[\"strong\", \"weak\"]}\n",
        "remaining_attributes = [\"outlook\", \"temperature\", \"humidity\", \"wind\"]\n",
        "\n",
        "\n",
        "root = ID3(s, remaining_attributes, full_attributes, entropy, None)\n",
        "\n",
        "\n",
        "q = queue.Queue()\n",
        "q2 = queue.Queue()\n",
        "q.put(root)\n",
        "childQ = queue.Queue()\n",
        "childQ.put(True)\n",
        "unravelTree(q, q2, childQ, 0)"
      ],
      "metadata": {
        "colab": {
          "base_uri": "https://localhost:8080/"
        },
        "id": "K1i4ZAaeQ4E6",
        "outputId": "c02d00a5-a933-4e23-9da3-edee0d5b8aeb"
      },
      "execution_count": 52,
      "outputs": [
        {
          "output_type": "stream",
          "name": "stdout",
          "text": [
            "~~~~~~~~~~~~~~~~~~~~~~~~~~~~\n",
            "ParentVal:  None\n",
            "Label:  outlook\n",
            "~~~~~~~~~~~~~~~~~~~~~~~~~~~~\n",
            "ParentVal:  sunny\n",
            "Label:  humidity\n",
            "ParentVal:  overcast\n",
            "Label:  +\n",
            "ParentVal:  rainy\n",
            "Label:  wind\n",
            "----\n",
            "~~~~~~~~~~~~~~~~~~~~~~~~~~~~\n",
            "ParentVal:  high\n",
            "Label:  -\n",
            "ParentVal:  normal\n",
            "Label:  +\n",
            "ParentVal:  low\n",
            "Label:  -\n",
            "----\n",
            "ParentVal:  strong\n",
            "Label:  -\n",
            "ParentVal:  weak\n",
            "Label:  +\n",
            "----\n"
          ]
        }
      ]
    }
  ]
}
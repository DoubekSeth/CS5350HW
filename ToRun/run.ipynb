{
 "cells": [
  {
   "cell_type": "code",
   "execution_count": 2,
   "metadata": {},
   "outputs": [],
   "source": [
    "%run \"../EnsembleLearning/RandomForest.ipynb\"\n",
    "%run \"../LinearRegression/LMS.ipynb\""
   ]
  },
  {
   "cell_type": "code",
   "execution_count": null,
   "metadata": {},
   "outputs": [
    {
     "name": "stdout",
     "output_type": "stream",
     "text": [
      "~~~~~~~~~~~~~~~~~~~~~~~~~~\n",
      "Running Batch Gradient Descent for LMS\n"
     ]
    },
    {
     "ename": "NameError",
     "evalue": "name 'np' is not defined",
     "output_type": "error",
     "traceback": [
      "\u001b[1;31m---------------------------------------------------------------------------\u001b[0m",
      "\u001b[1;31mNameError\u001b[0m                                 Traceback (most recent call last)",
      "\u001b[1;32mc:\\Users\\doube\\OneDrive\\Desktop\\School2324\\ML\\HW2\\CS5350HW\\ToRun\\run.ipynb Cell 2\u001b[0m line \u001b[0;36m3\n\u001b[0;32m      <a href='vscode-notebook-cell:/c%3A/Users/doube/OneDrive/Desktop/School2324/ML/HW2/CS5350HW/ToRun/run.ipynb#W1sZmlsZQ%3D%3D?line=0'>1</a>\u001b[0m \u001b[39mprint\u001b[39m(\u001b[39m\"\u001b[39m\u001b[39m~~~~~~~~~~~~~~~~~~~~~~~~~~\u001b[39m\u001b[39m\"\u001b[39m)\n\u001b[0;32m      <a href='vscode-notebook-cell:/c%3A/Users/doube/OneDrive/Desktop/School2324/ML/HW2/CS5350HW/ToRun/run.ipynb#W1sZmlsZQ%3D%3D?line=1'>2</a>\u001b[0m \u001b[39mprint\u001b[39m(\u001b[39m\"\u001b[39m\u001b[39mRunning Batch Gradient Descent for LMS\u001b[39m\u001b[39m\"\u001b[39m)\n\u001b[1;32m----> <a href='vscode-notebook-cell:/c%3A/Users/doube/OneDrive/Desktop/School2324/ML/HW2/CS5350HW/ToRun/run.ipynb#W1sZmlsZQ%3D%3D?line=2'>3</a>\u001b[0m weights \u001b[39m=\u001b[39m np\u001b[39m.\u001b[39mzeros(\u001b[39m8\u001b[39m)\n\u001b[0;32m      <a href='vscode-notebook-cell:/c%3A/Users/doube/OneDrive/Desktop/School2324/ML/HW2/CS5350HW/ToRun/run.ipynb#W1sZmlsZQ%3D%3D?line=3'>4</a>\u001b[0m addOnesForBiasOnDataset(train_concrete)\n\u001b[0;32m      <a href='vscode-notebook-cell:/c%3A/Users/doube/OneDrive/Desktop/School2324/ML/HW2/CS5350HW/ToRun/run.ipynb#W1sZmlsZQ%3D%3D?line=4'>5</a>\u001b[0m \u001b[39m#print(gradient_Batch_MSE(train_concrete, weights))\u001b[39;00m\n",
      "\u001b[1;31mNameError\u001b[0m: name 'np' is not defined"
     ]
    }
   ],
   "source": [
    "print(\"~~~~~~~~~~~~~~~~~~~~~~~~~~\")\n",
    "print(\"Running Batch Gradient Descent for LMS\")\n",
    "weights = np.zeros(8)\n",
    "addOnesForBiasOnDataset(train_concrete)\n",
    "#print(gradient_Batch_MSE(train_concrete, weights))\n",
    "print(BatchGD(train_concrete, gradient_Batch_MSE, 0.005, weights, 0.01))"
   ]
  },
  {
   "cell_type": "code",
   "execution_count": null,
   "metadata": {},
   "outputs": [
    {
     "name": "stdout",
     "output_type": "stream",
     "text": [
      "~~~~~~~~~~~~~~~~~~~~~~~~~~\n",
      "Running Stochastic Gradient Descent for LMS\n"
     ]
    },
    {
     "ename": "NameError",
     "evalue": "name 'gradient_Stochastic_MSE' is not defined",
     "output_type": "error",
     "traceback": [
      "\u001b[1;31m---------------------------------------------------------------------------\u001b[0m",
      "\u001b[1;31mNameError\u001b[0m                                 Traceback (most recent call last)",
      "\u001b[1;32mc:\\Users\\doube\\OneDrive\\Desktop\\School2324\\ML\\HW2\\CS5350HW\\ToRun\\run.ipynb Cell 3\u001b[0m line \u001b[0;36m6\n\u001b[0;32m      <a href='vscode-notebook-cell:/c%3A/Users/doube/OneDrive/Desktop/School2324/ML/HW2/CS5350HW/ToRun/run.ipynb#W2sZmlsZQ%3D%3D?line=3'>4</a>\u001b[0m addOnesForBiasOnDataset(train_concrete)\n\u001b[0;32m      <a href='vscode-notebook-cell:/c%3A/Users/doube/OneDrive/Desktop/School2324/ML/HW2/CS5350HW/ToRun/run.ipynb#W2sZmlsZQ%3D%3D?line=4'>5</a>\u001b[0m \u001b[39m#print(gradient_Batch_MSE(train_concrete, weights))\u001b[39;00m\n\u001b[1;32m----> <a href='vscode-notebook-cell:/c%3A/Users/doube/OneDrive/Desktop/School2324/ML/HW2/CS5350HW/ToRun/run.ipynb#W2sZmlsZQ%3D%3D?line=5'>6</a>\u001b[0m \u001b[39mprint\u001b[39m(StochasticGD(train_concrete, gradient_Stochastic_MSE, \u001b[39m0.01\u001b[39m, weights, \u001b[39m10\u001b[39m))\n",
      "\u001b[1;31mNameError\u001b[0m: name 'gradient_Stochastic_MSE' is not defined"
     ]
    }
   ],
   "source": [
    "print(\"~~~~~~~~~~~~~~~~~~~~~~~~~~\")\n",
    "print(\"Running Stochastic Gradient Descent for LMS\")\n",
    "weights = np.zeros(8)\n",
    "addOnesForBiasOnDataset(train_concrete)\n",
    "#print(gradient_Batch_MSE(train_concrete, weights))\n",
    "print(StochasticGD(train_concrete, 0.02, weights, .02))"
   ]
  },
  {
   "cell_type": "code",
   "execution_count": null,
   "metadata": {},
   "outputs": [],
   "source": [
    "print(\"~~~~~~~~~~~~~~~~~~~~~~~~~~~~~\")\n",
    "print(\"Running Adaboost\")\n",
    "\n",
    "T=3\n",
    "classifierArr = []\n",
    "alphaArr = []\n",
    "s_train = s_banktraining\n",
    "D_t = np.ones(len(s_train))/len(s_train)\n",
    "s_test = s_banktesting\n",
    "full_attributes = full_attributes_bank\n",
    "attributes = remaining_attributes_bank\n",
    "purity_function = GiniInd\n",
    "\n",
    "for i in range(1, T):\n",
    "    print(i)\n",
    "    classifiers, alphas, weights = Adaboost(D_t=D_t, iterations=1, s_train=s_train, full_attributes=full_attributes, attributes=attributes, purity_function=purity_function)\n",
    "    classifierArr.append(classifiers[0])\n",
    "    alphaArr.append(alphas[0])\n",
    "    D_t = weights\n",
    "    print(\"train:\", findModelAccuracy(s_test=s_train, classifiers=classifierArr, alphas=alphaArr, full_attributes=full_attributes))\n",
    "    print(\"test:\",findModelAccuracy(s_test=s_test, classifiers=classifierArr, alphas=alphaArr, full_attributes=full_attributes))"
   ]
  },
  {
   "cell_type": "code",
   "execution_count": null,
   "metadata": {},
   "outputs": [],
   "source": [
    "print(\"~~~~~~~~~~~~~~~~~~~~~~~~~~\")\n",
    "print(\"Starting bagging\")\n",
    "trees = bagging(s_train=s_train, T=2, attributes=attributes, full_attributes=full_attributes, purity_function=purity_function)"
   ]
  },
  {
   "cell_type": "code",
   "execution_count": null,
   "metadata": {},
   "outputs": [],
   "source": [
    "print(\"~~~~~~~~~~~~~~~~~~~\")\n",
    "print(\"Starting Random Forest\")\n",
    "trees = RFbagging(s_train=s_train, T=2, attributes=attributes, full_attributes=full_attributes, purity_function=purity_function, s_test=s_test, random_forest_selector=2)"
   ]
  }
 ],
 "metadata": {
  "kernelspec": {
   "display_name": "Python 3",
   "language": "python",
   "name": "python3"
  },
  "language_info": {
   "codemirror_mode": {
    "name": "ipython",
    "version": 3
   },
   "file_extension": ".py",
   "mimetype": "text/x-python",
   "name": "python",
   "nbconvert_exporter": "python",
   "pygments_lexer": "ipython3",
   "version": "3.11.6"
  }
 },
 "nbformat": 4,
 "nbformat_minor": 2
}

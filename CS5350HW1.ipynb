{
  "nbformat": 4,
  "nbformat_minor": 0,
  "metadata": {
    "colab": {
      "provenance": [],
      "authorship_tag": "ABX9TyP+dIJykjdSD6rZrqhbamQF",
      "include_colab_link": true
    },
    "kernelspec": {
      "name": "python3",
      "display_name": "Python 3"
    },
    "language_info": {
      "name": "python"
    }
  },
  "cells": [
    {
      "cell_type": "markdown",
      "metadata": {
        "id": "view-in-github",
        "colab_type": "text"
      },
      "source": [
        "<a href=\"https://colab.research.google.com/github/DoubekSeth/CS5350HW/blob/main/CS5350HW1.ipynb\" target=\"_parent\"><img src=\"https://colab.research.google.com/assets/colab-badge.svg\" alt=\"Open In Colab\"/></a>"
      ]
    },
    {
      "cell_type": "code",
      "source": [
        "from collections import Counter\n",
        "import numpy as np"
      ],
      "metadata": {
        "id": "d6EZ_pVgdJy0"
      },
      "execution_count": null,
      "outputs": []
    },
    {
      "cell_type": "markdown",
      "source": [
        "Creating Basic ID3 algorithm"
      ],
      "metadata": {
        "id": "U8E1T7XuLai5"
      }
    },
    {
      "cell_type": "code",
      "execution_count": null,
      "metadata": {
        "id": "jMW4u4fcKCCE"
      },
      "outputs": [],
      "source": [
        "class Node:\n",
        "  def __init__(self, s, atrs, parent=None, label=None):\n",
        "    self.s = s\n",
        "    self.atrs = atrs\n",
        "    self.parent = parent\n",
        "    self.label = label\n",
        "    self.children = []\n",
        "\n",
        "  def addChild(self, node):\n",
        "    self.children.append(node)"
      ]
    },
    {
      "cell_type": "code",
      "source": [
        "def ID3(s, remaining_attributes, full_attributes, purity_func, parentNode):\n",
        "  #First, check if all training examples s have same label. First stopping condition\n",
        "  if(labelSame(s)[0]):\n",
        "    newNode = Node(s, remaining_attributes, parent=parentNode, label=labelSame(s)[1])\n",
        "    print(\"Same Label\")\n",
        "    return Node(s, remaining_attributes, parent=parentNode, label=labelSame(s)[1])\n",
        "  #Second, check if exhausted attributes and if so return leaf node with most common label. Second stopping condition\n",
        "  if(len(remaining_attributes) == 0):\n",
        "    print(\"Exhausted Attributes\")\n",
        "    return Node(s, remaining_attributes, parent=parentNode, label=mostCommonLabel(s, 1)[0][0])\n",
        "  #If didn't stop, then we can move onto the main part of the algorithm\n",
        "  #Create root if we don't have one\n",
        "  if(parentNode==None):\n",
        "    parentNode = Node(s, remaining_attributes, full_attributes)\n",
        "  #Find attribute best splits S\n",
        "  bestAtr = findBestSplit(s, remaining_attributes, full_attributes, purity_func)\n",
        "  print(bestAtr)\n",
        "  remaining_attributes=remaining_attributes.pop(bestAtr)\n",
        "  #Go thru all values for best attribute\n",
        "  for val in full_attributes[bestAtr]:\n",
        "    s_v = filterSOnAtrVal(s, bestAtr, val, full_attributes)\n",
        "    #Check if s_v empty\n",
        "    if(len(s_v)==0):\n",
        "      print(\"S_v empty\")\n",
        "      return Node(s, remaining_attributes, parent=parentNode, label=mostCommonLabel(s, 1)[0][0])\n",
        "    else:\n",
        "      newNode = Node(s_v, remaining_attributes, parent=parentNode)\n",
        "      ID3(s_v, remaining_attributes, full_attributes, purity_func, parentNode)\n",
        "  return parentNode"
      ],
      "metadata": {
        "id": "8ohC663wMYYp"
      },
      "execution_count": null,
      "outputs": []
    },
    {
      "cell_type": "markdown",
      "source": [
        "Does two functions, first returns true if all labels are the same for s. Second returns the label if all labels are same or else returns none"
      ],
      "metadata": {
        "id": "98_lLelDbvZP"
      }
    },
    {
      "cell_type": "code",
      "source": [
        "def labelSame(s):\n",
        "  label = s[0][len(s[0])-1]\n",
        "  for i in s:\n",
        "    if(i[len(i)-1] != label):\n",
        "      return False, None\n",
        "  return True, label"
      ],
      "metadata": {
        "id": "MhLUNxq3XA_L"
      },
      "execution_count": null,
      "outputs": []
    },
    {
      "cell_type": "markdown",
      "source": [
        "Another helper function, returns the n most common label in s"
      ],
      "metadata": {
        "id": "OGDsSdPxld2e"
      }
    },
    {
      "cell_type": "code",
      "source": [
        "def mostCommonLabel(s, n):\n",
        "  labels = []\n",
        "  for i in s:\n",
        "    labels.append(i[len(i)-1])\n",
        "  #Find most common label out of all the labels\n",
        "  mostCommon = Counter(labels).most_common(n)\n",
        "  return mostCommon"
      ],
      "metadata": {
        "id": "MsU5wdDfcJQ6"
      },
      "execution_count": null,
      "outputs": []
    },
    {
      "cell_type": "markdown",
      "source": [
        "This helper finds the attribute that results in the best split"
      ],
      "metadata": {
        "id": "WBKBFU2tpzwe"
      }
    },
    {
      "cell_type": "code",
      "source": [
        "def findBestSplit(s, atrs, full_attributes, purity_func):\n",
        "  max_info_gain = 0\n",
        "  max_info_gain_atr = \"\"\n",
        "  for atr in atrs:\n",
        "    info_gained = find_info_gained(s, atr, full_attributes, purity_func)\n",
        "    if(info_gained > max_info_gain):\n",
        "      max_info_gain = info_gained\n",
        "      max_info_gain_atr = atr\n",
        "  return max_info_gain_atr"
      ],
      "metadata": {
        "id": "VtDmjBqLmxwK"
      },
      "execution_count": null,
      "outputs": []
    },
    {
      "cell_type": "markdown",
      "source": [
        "This helper gives the information gained from a single attribute"
      ],
      "metadata": {
        "id": "5LJIjsQTEKhR"
      }
    },
    {
      "cell_type": "code",
      "source": [
        "def find_info_gained(s, atr, full_attributes, purity_func):\n",
        "  atr_ind = list(full_attributes.keys()).index(atr)\n",
        "  #Create dictionary that contains attribute categories and what labels each attribute category has\n",
        "  atr_type_count_dict = {}\n",
        "  for i in s:\n",
        "    if i[atr_ind] in atr_type_count_dict:\n",
        "      atr_type_count_dict[i[atr_ind]].append(i[len(i)-1])\n",
        "    else:\n",
        "      atr_type_count_dict[i[atr_ind]] = [i[len(i)-1]]\n",
        "  #Use proportions to run info gain function and find total information gain\n",
        "  starting_info = purity_func(list(x[len(x)-1] for x in s))\n",
        "  weighted_sum = 0\n",
        "  for j in atr_type_count_dict.values():\n",
        "    weighted_sum += len(j)/len(s)*purity_func(j)\n",
        "  return starting_info-weighted_sum"
      ],
      "metadata": {
        "id": "YhYDbYvp_2l2"
      },
      "execution_count": null,
      "outputs": []
    },
    {
      "cell_type": "markdown",
      "source": [
        "Filters S based on an attribute value to get S_v"
      ],
      "metadata": {
        "id": "wUxQ5rE-Szv0"
      }
    },
    {
      "cell_type": "code",
      "source": [
        "def filterSOnAtrVal(s, atr, val, full_attributes):\n",
        "  filtered = []\n",
        "  atr_ind = list(full_attributes.keys()).index(atr)\n",
        "  for i in s:\n",
        "    if(i[atr_ind] == val):\n",
        "      filtered.append(i)\n",
        "  return filtered"
      ],
      "metadata": {
        "id": "NeAnRSTQR6Vq"
      },
      "execution_count": null,
      "outputs": []
    },
    {
      "cell_type": "markdown",
      "source": [
        "Below are all purity functions, they simply take in a list of labels and output"
      ],
      "metadata": {
        "id": "A2U621eCqBQ4"
      }
    },
    {
      "cell_type": "code",
      "source": [
        "def entropy(labels):\n",
        "  vec_counts = np.array(list(Counter(labels).values()))\n",
        "  vec_props = vec_counts/np.sum(vec_counts)\n",
        "  return -np.dot(vec_props, np.log2(vec_props))"
      ],
      "metadata": {
        "id": "oahUYMhVFHlB"
      },
      "execution_count": null,
      "outputs": []
    },
    {
      "cell_type": "code",
      "source": [
        "s = [[\"sunny\", \"hot\", \"high\", \"weak\", \"-\"],\n",
        "     [\"sunny\", \"hot\", \"high\", \"strong\", \"-\"],\n",
        "     [\"overcast\", \"hot\", \"high\", \"weak\", \"+\"],\n",
        "     [\"rainy\", \"mild\", \"high\", \"weak\", \"+\"],\n",
        "     [\"rainy\", \"cool\", \"normal\", \"weak\", \"+\"],\n",
        "     [\"rainy\", \"cool\", \"normal\", \"strong\", \"-\"],\n",
        "     [\"overcast\", \"cool\", \"normal\", \"strong\", \"+\"],\n",
        "     [\"sunny\", \"mild\", \"high\", \"weak\", \"-\"],\n",
        "     [\"sunny\", \"cool\", \"normal\", \"weak\", \"+\"],\n",
        "     [\"rainy\", \"mild\", \"normal\", \"weak\", \"+\"],\n",
        "     [\"sunny\", \"mild\", \"normal\", \"strong\", \"+\"],\n",
        "     [\"overcast\", \"mild\", \"high\", \"strong\", \"+\"],\n",
        "     [\"overcast\", \"hot\", \"normal\", \"weak\", \"+\"],\n",
        "     [\"rainy\", \"mild\", \"high\", \"strong\", \"-\"]]\n",
        "attributes = {\"outlook\":[\"sunny\", \"overcast\", \"rainy\"], \"temperature\":[\"hot\", \"mild\", \"cool\"], \"humidity\":[\"high\", \"normal\", \"low\"], \"wind\":[\"strong\", \"weak\"]}\n",
        "info_gain_func = 2\n",
        "rootNode = None\n",
        "ID3(s, attributes, attributes, entropy, None)"
      ],
      "metadata": {
        "colab": {
          "base_uri": "https://localhost:8080/",
          "height": 349
        },
        "id": "K1i4ZAaeQ4E6",
        "outputId": "3978f303-620c-49c2-8a83-f30c944b4248"
      },
      "execution_count": null,
      "outputs": [
        {
          "output_type": "stream",
          "name": "stdout",
          "text": [
            "outlook\n"
          ]
        },
        {
          "output_type": "error",
          "ename": "KeyError",
          "evalue": "ignored",
          "traceback": [
            "\u001b[0;31m---------------------------------------------------------------------------\u001b[0m",
            "\u001b[0;31mKeyError\u001b[0m                                  Traceback (most recent call last)",
            "\u001b[0;32m<ipython-input-23-7d9a14584047>\u001b[0m in \u001b[0;36m<cell line: 18>\u001b[0;34m()\u001b[0m\n\u001b[1;32m     16\u001b[0m \u001b[0minfo_gain_func\u001b[0m \u001b[0;34m=\u001b[0m \u001b[0;36m2\u001b[0m\u001b[0;34m\u001b[0m\u001b[0;34m\u001b[0m\u001b[0m\n\u001b[1;32m     17\u001b[0m \u001b[0mrootNode\u001b[0m \u001b[0;34m=\u001b[0m \u001b[0;32mNone\u001b[0m\u001b[0;34m\u001b[0m\u001b[0;34m\u001b[0m\u001b[0m\n\u001b[0;32m---> 18\u001b[0;31m \u001b[0mID3\u001b[0m\u001b[0;34m(\u001b[0m\u001b[0ms\u001b[0m\u001b[0;34m,\u001b[0m \u001b[0mattributes\u001b[0m\u001b[0;34m,\u001b[0m \u001b[0mattributes\u001b[0m\u001b[0;34m,\u001b[0m \u001b[0mentropy\u001b[0m\u001b[0;34m,\u001b[0m \u001b[0;32mNone\u001b[0m\u001b[0;34m)\u001b[0m\u001b[0;34m\u001b[0m\u001b[0;34m\u001b[0m\u001b[0m\n\u001b[0m",
            "\u001b[0;32m<ipython-input-22-800a4c4db816>\u001b[0m in \u001b[0;36mID3\u001b[0;34m(s, remaining_attributes, full_attributes, purity_func, parentNode)\u001b[0m\n\u001b[1;32m     18\u001b[0m   \u001b[0mremaining_attributes\u001b[0m\u001b[0;34m=\u001b[0m\u001b[0mremaining_attributes\u001b[0m\u001b[0;34m.\u001b[0m\u001b[0mpop\u001b[0m\u001b[0;34m(\u001b[0m\u001b[0mbestAtr\u001b[0m\u001b[0;34m)\u001b[0m\u001b[0;34m\u001b[0m\u001b[0;34m\u001b[0m\u001b[0m\n\u001b[1;32m     19\u001b[0m   \u001b[0;31m#Go thru all values for best attribute\u001b[0m\u001b[0;34m\u001b[0m\u001b[0;34m\u001b[0m\u001b[0m\n\u001b[0;32m---> 20\u001b[0;31m   \u001b[0;32mfor\u001b[0m \u001b[0mval\u001b[0m \u001b[0;32min\u001b[0m \u001b[0mfull_attributes\u001b[0m\u001b[0;34m[\u001b[0m\u001b[0mbestAtr\u001b[0m\u001b[0;34m]\u001b[0m\u001b[0;34m:\u001b[0m\u001b[0;34m\u001b[0m\u001b[0;34m\u001b[0m\u001b[0m\n\u001b[0m\u001b[1;32m     21\u001b[0m     \u001b[0ms_v\u001b[0m \u001b[0;34m=\u001b[0m \u001b[0mfilterSOnAtrVal\u001b[0m\u001b[0;34m(\u001b[0m\u001b[0ms\u001b[0m\u001b[0;34m,\u001b[0m \u001b[0mbestAtr\u001b[0m\u001b[0;34m,\u001b[0m \u001b[0mval\u001b[0m\u001b[0;34m,\u001b[0m \u001b[0mfull_attributes\u001b[0m\u001b[0;34m)\u001b[0m\u001b[0;34m\u001b[0m\u001b[0;34m\u001b[0m\u001b[0m\n\u001b[1;32m     22\u001b[0m     \u001b[0;31m#Check if s_v empty\u001b[0m\u001b[0;34m\u001b[0m\u001b[0;34m\u001b[0m\u001b[0m\n",
            "\u001b[0;31mKeyError\u001b[0m: 'outlook'"
          ]
        }
      ]
    },
    {
      "cell_type": "code",
      "source": [
        "findBestSplit(s, attributes, attributes, entropy)"
      ],
      "metadata": {
        "id": "o4cFIktXNy-G"
      },
      "execution_count": null,
      "outputs": []
    },
    {
      "cell_type": "code",
      "source": [
        "find_info_gained(s, \"outlook\", attributes, entropy)"
      ],
      "metadata": {
        "id": "UCbuyp5uoBm2"
      },
      "execution_count": null,
      "outputs": []
    },
    {
      "cell_type": "code",
      "source": [
        "entropy(s, \"wind\", attributes)"
      ],
      "metadata": {
        "id": "DmCZoeCOqOPq"
      },
      "execution_count": null,
      "outputs": []
    },
    {
      "cell_type": "code",
      "source": [
        "mostCommonLabel(s, None)"
      ],
      "metadata": {
        "id": "zMmiU-s-dna4"
      },
      "execution_count": null,
      "outputs": []
    }
  ]
}
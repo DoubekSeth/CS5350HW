{
 "cells": [
  {
   "cell_type": "markdown",
   "metadata": {},
   "source": [
    "Run this to get decision tree which we use as our classifier"
   ]
  },
  {
   "cell_type": "code",
   "execution_count": 34,
   "metadata": {},
   "outputs": [],
   "source": [
    "%run \"../DecisionTree/CS5350HW1.ipynb\""
   ]
  },
  {
   "cell_type": "markdown",
   "metadata": {},
   "source": [
    "# Adaboost Algorithm"
   ]
  },
  {
   "cell_type": "markdown",
   "metadata": {},
   "source": [
    "## Main Algorithm"
   ]
  },
  {
   "cell_type": "code",
   "execution_count": 35,
   "metadata": {},
   "outputs": [],
   "source": [
    "#Define D_t\n",
    "#for t=1,2,..,T\n",
    "    #find h_t whose weighted classification error is better than chance\n",
    "    #Compute a_t = 1/2ln((1-e_t)/e_t)\n",
    "    #Update D_t+1(i) = D_t(i)/Z_t*e^{-a_ty_ih_t(x_i)}\n",
    "#H_final = sgn(sum(a_th_t(x)))\n",
    "\n",
    "def Adaboost(D_t, iterations, s_train, full_attributes, attributes, purity_function):\n",
    "    classifiers = []\n",
    "    alphas = []\n",
    "    for i in range(iterations):\n",
    "        print(\"Iteration:\", i)\n",
    "        root = createTree(s_train, attributes, full_attributes, purity_function, D_t, 1)\n",
    "        error = findError(root, s_train, D_t, full_attributes)\n",
    "        a_t = 0.5*np.log((1-error)/error)\n",
    "        Z_t = np.sum(D_t)\n",
    "        D_t_next = np.ones(len(s_train))\n",
    "        for trainInd in range(len(s_train)):\n",
    "            #travTree returns 1 if matched and 0 otherwise\n",
    "            pred = travTree(root, s_train[trainInd], full_attributes)\n",
    "            if(pred == 0):\n",
    "                D_t_next[trainInd] = D_t[trainInd]/Z_t*np.e**(a_t)\n",
    "            else:\n",
    "                D_t_next[trainInd] = D_t[trainInd]/Z_t*np.e**(-a_t)\n",
    "        print(D_t)\n",
    "        print(D_t_next)\n",
    "        print(error)\n",
    "        displayTree(root)\n",
    "        D_t = D_t_next\n",
    "        classifiers.append(root)\n",
    "        alphas.append(a_t)\n",
    "    return classifiers, alphas\n",
    "            \n",
    "            "
   ]
  },
  {
   "cell_type": "code",
   "execution_count": 36,
   "metadata": {},
   "outputs": [],
   "source": [
    "def findError(root, s_test, D_t, full_attributes):\n",
    "  matched = 0\n",
    "  for i in range(len(s_test)):\n",
    "    #Note, (1-x) maps 0 -> 1 and 1 -> 0\n",
    "    matched += D_t[i]*(1-travTree(root, s_test[i], full_attributes))\n",
    "  return matched"
   ]
  },
  {
   "cell_type": "markdown",
   "metadata": {},
   "source": [
    "## Finding accuracy"
   ]
  },
  {
   "cell_type": "code",
   "execution_count": 37,
   "metadata": {},
   "outputs": [],
   "source": [
    "def findModelAccuracy(s_test, classifiers, alphas, full_attributes):\n",
    "    matched = 0\n",
    "    for test in s_test:\n",
    "        h_f = computeHFinal(classifiers, alphas, test, full_attributes)\n",
    "        print(h_f, test[len(test)-1])\n",
    "        if(h_f > 0 and convertStringToBinary(test[len(test)-1]) > 0):\n",
    "            matched += 1\n",
    "        elif(h_f < 0 and convertStringToBinary(test[len(test)-1]) > 0):\n",
    "             matched += 1\n",
    "    return matched/len(s_test)\n"
   ]
  },
  {
   "cell_type": "code",
   "execution_count": 38,
   "metadata": {},
   "outputs": [],
   "source": [
    "def computeHFinal(classifiers, alphas, x_i, full_attributes):\n",
    "    final = 0\n",
    "    for i in range(len(classifiers)):\n",
    "        print(alphas[i])\n",
    "        print(travTreeWithoutLabel(classifiers[i], x_i, full_attributes))\n",
    "        final += alphas[i]*travTreeWithoutLabel(classifiers[i], x_i, full_attributes)\n",
    "    return final"
   ]
  },
  {
   "cell_type": "code",
   "execution_count": 39,
   "metadata": {},
   "outputs": [],
   "source": [
    "def convertStringToBinary(y_i):\n",
    "    if(y_i == \"yes\"):\n",
    "        return 1\n",
    "    else:\n",
    "        return -1"
   ]
  },
  {
   "cell_type": "markdown",
   "metadata": {},
   "source": [
    "Pretty much travTree, but now will return 1 for a yes label and -1 for a no label"
   ]
  },
  {
   "cell_type": "code",
   "execution_count": 43,
   "metadata": {},
   "outputs": [],
   "source": [
    "def travTreeWithoutLabel(root, datapoint, full_attr):\n",
    "  #Stopping Condition, root no children\n",
    "  if(len(root.children) == 0):\n",
    "    if(root.label == \"yes\"):\n",
    "      #print(\"matched\")\n",
    "      return 1\n",
    "    else:\n",
    "      #print(\"no match\")\n",
    "      return -1\n",
    "  #Otherwise, traverse down\n",
    "  curr_attr = root.label\n",
    "  do_numeric = False\n",
    "  if(full_attr[curr_attr] == \"numeric\"):\n",
    "    do_numeric = True\n",
    "  #print(\"current attribute: \", curr_attr)\n",
    "  atr_ind = list(full_attr.keys()).index(curr_attr)\n",
    "  for child in root.children:\n",
    "    if(do_numeric):\n",
    "      median = statistics.median(x[atr_ind] for x in root.s)\n",
    "      #print(\"numeric: \", median, \" \", datapoint[atr_ind])\n",
    "      if((datapoint[atr_ind] < median and child.parentVal==\"lower than median\") or (datapoint[atr_ind] >= median and child.parentVal==\"higher than median\")):\n",
    "        return travTreeWithoutLabel(child, datapoint, full_attr)\n",
    "    else:\n",
    "      if(child.parentVal == datapoint[atr_ind]):\n",
    "        #print(\"Going down on val: \", child.parentVal)\n",
    "        return travTreeWithoutLabel(child, datapoint, full_attr)"
   ]
  },
  {
   "cell_type": "markdown",
   "metadata": {},
   "source": [
    "# Testing"
   ]
  },
  {
   "cell_type": "code",
   "execution_count": 44,
   "metadata": {},
   "outputs": [
    {
     "name": "stdout",
     "output_type": "stream",
     "text": [
      "Iteration: 0\n",
      "[0.0002 0.0002 0.0002 ... 0.0002 0.0002 0.0002]\n",
      "[7.35748644e-05 7.35748644e-05 5.43663931e-04 ... 7.35748644e-05\n",
      " 7.35748644e-05 7.35748644e-05]\n",
      "0.11920000000000136\n",
      "~~~~~~~~~~~~~~~~~~~~~~~~~~~~\n",
      "ParentVal:  None\n",
      "Label:  duration\n",
      "~~~~~~~~~~~~~~~~~~~~~~~~~~~~\n",
      "ParentVal:  lower than median\n",
      "Label:  no\n",
      "ParentVal:  higher than median\n",
      "Label:  no\n",
      "----\n",
      "Iteration: 1\n",
      "[7.35748644e-05 7.35748644e-05 5.43663931e-04 ... 7.35748644e-05\n",
      " 7.35748644e-05 7.35748644e-05]\n",
      "[7.86041273e-05 7.86041273e-05 1.21171669e-03 ... 7.86041273e-05\n",
      " 7.86041273e-05 7.86041273e-05]\n",
      "0.32402370283668813\n",
      "~~~~~~~~~~~~~~~~~~~~~~~~~~~~\n",
      "ParentVal:  None\n",
      "Label:  duration\n",
      "~~~~~~~~~~~~~~~~~~~~~~~~~~~~\n",
      "ParentVal:  lower than median\n",
      "Label:  no\n",
      "ParentVal:  higher than median\n",
      "Label:  no\n",
      "----\n",
      "Iteration: 2\n",
      "[7.86041273e-05 7.86041273e-05 1.21171669e-03 ... 7.86041273e-05\n",
      " 7.86041273e-05 7.86041273e-05]\n",
      "[0.00011862 0.00011862 0.00070346 ... 0.00011862 0.00011862 0.00011862]\n",
      "0.722183144481344\n",
      "~~~~~~~~~~~~~~~~~~~~~~~~~~~~\n",
      "ParentVal:  None\n",
      "Label:  duration\n",
      "~~~~~~~~~~~~~~~~~~~~~~~~~~~~\n",
      "ParentVal:  lower than median\n",
      "Label:  no\n",
      "ParentVal:  higher than median\n",
      "Label:  no\n",
      "----\n",
      "Iteration: 3\n"
     ]
    },
    {
     "ename": "KeyboardInterrupt",
     "evalue": "",
     "output_type": "error",
     "traceback": [
      "\u001b[1;31m---------------------------------------------------------------------------\u001b[0m",
      "\u001b[1;31mKeyboardInterrupt\u001b[0m                         Traceback (most recent call last)",
      "\u001b[1;32mc:\\Users\\doube\\OneDrive\\Desktop\\School2324\\ML\\HW2\\CS5350HW\\Ensemble Learning\\Adaboost.ipynb Cell 14\u001b[0m line \u001b[0;36m1\n\u001b[0;32m      <a href='vscode-notebook-cell:/c%3A/Users/doube/OneDrive/Desktop/School2324/ML/HW2/CS5350HW/Ensemble%20Learning/Adaboost.ipynb#X16sZmlsZQ%3D%3D?line=5'>6</a>\u001b[0m purity_function \u001b[39m=\u001b[39m entropy\n\u001b[0;32m      <a href='vscode-notebook-cell:/c%3A/Users/doube/OneDrive/Desktop/School2324/ML/HW2/CS5350HW/Ensemble%20Learning/Adaboost.ipynb#X16sZmlsZQ%3D%3D?line=7'>8</a>\u001b[0m D_1 \u001b[39m=\u001b[39m np\u001b[39m.\u001b[39mones(\u001b[39mlen\u001b[39m(s_train))\u001b[39m/\u001b[39m\u001b[39mlen\u001b[39m(s_train)\n\u001b[1;32m---> <a href='vscode-notebook-cell:/c%3A/Users/doube/OneDrive/Desktop/School2324/ML/HW2/CS5350HW/Ensemble%20Learning/Adaboost.ipynb#X16sZmlsZQ%3D%3D?line=9'>10</a>\u001b[0m classifiers, alphas \u001b[39m=\u001b[39m Adaboost(D_t\u001b[39m=\u001b[39;49mD_1, iterations\u001b[39m=\u001b[39;49miterations, s_train\u001b[39m=\u001b[39;49ms_train, full_attributes\u001b[39m=\u001b[39;49mfull_attributes, attributes\u001b[39m=\u001b[39;49mattributes, purity_function\u001b[39m=\u001b[39;49mpurity_function)\n\u001b[0;32m     <a href='vscode-notebook-cell:/c%3A/Users/doube/OneDrive/Desktop/School2324/ML/HW2/CS5350HW/Ensemble%20Learning/Adaboost.ipynb#X16sZmlsZQ%3D%3D?line=10'>11</a>\u001b[0m \u001b[39mprint\u001b[39m(\u001b[39m\"\u001b[39m\u001b[39m~~~~~~~~~~~~~~~~~~~~~~~~~~~~~~~~~~~~~~~~~~~~~~~~\u001b[39m\u001b[39m\"\u001b[39m)\n\u001b[0;32m     <a href='vscode-notebook-cell:/c%3A/Users/doube/OneDrive/Desktop/School2324/ML/HW2/CS5350HW/Ensemble%20Learning/Adaboost.ipynb#X16sZmlsZQ%3D%3D?line=11'>12</a>\u001b[0m \u001b[39mprint\u001b[39m(alphas)\n",
      "\u001b[1;32mc:\\Users\\doube\\OneDrive\\Desktop\\School2324\\ML\\HW2\\CS5350HW\\Ensemble Learning\\Adaboost.ipynb Cell 14\u001b[0m line \u001b[0;36m1\n\u001b[0;32m     <a href='vscode-notebook-cell:/c%3A/Users/doube/OneDrive/Desktop/School2324/ML/HW2/CS5350HW/Ensemble%20Learning/Adaboost.ipynb#X16sZmlsZQ%3D%3D?line=10'>11</a>\u001b[0m \u001b[39mfor\u001b[39;00m i \u001b[39min\u001b[39;00m \u001b[39mrange\u001b[39m(iterations):\n\u001b[0;32m     <a href='vscode-notebook-cell:/c%3A/Users/doube/OneDrive/Desktop/School2324/ML/HW2/CS5350HW/Ensemble%20Learning/Adaboost.ipynb#X16sZmlsZQ%3D%3D?line=11'>12</a>\u001b[0m     \u001b[39mprint\u001b[39m(\u001b[39m\"\u001b[39m\u001b[39mIteration:\u001b[39m\u001b[39m\"\u001b[39m, i)\n\u001b[1;32m---> <a href='vscode-notebook-cell:/c%3A/Users/doube/OneDrive/Desktop/School2324/ML/HW2/CS5350HW/Ensemble%20Learning/Adaboost.ipynb#X16sZmlsZQ%3D%3D?line=12'>13</a>\u001b[0m     root \u001b[39m=\u001b[39m createTree(s_train, attributes, full_attributes, purity_function, D_t, \u001b[39m1\u001b[39;49m)\n\u001b[0;32m     <a href='vscode-notebook-cell:/c%3A/Users/doube/OneDrive/Desktop/School2324/ML/HW2/CS5350HW/Ensemble%20Learning/Adaboost.ipynb#X16sZmlsZQ%3D%3D?line=13'>14</a>\u001b[0m     error \u001b[39m=\u001b[39m findError(root, s_train, D_t, full_attributes)\n\u001b[0;32m     <a href='vscode-notebook-cell:/c%3A/Users/doube/OneDrive/Desktop/School2324/ML/HW2/CS5350HW/Ensemble%20Learning/Adaboost.ipynb#X16sZmlsZQ%3D%3D?line=14'>15</a>\u001b[0m     a_t \u001b[39m=\u001b[39m \u001b[39m0.5\u001b[39m\u001b[39m*\u001b[39mnp\u001b[39m.\u001b[39mlog((\u001b[39m1\u001b[39m\u001b[39m-\u001b[39merror)\u001b[39m/\u001b[39merror)\n",
      "File \u001b[1;32m~\\AppData\\Local\\Temp\\ipykernel_8080\\3931861913.py:2\u001b[0m, in \u001b[0;36mcreateTree\u001b[1;34m(s, rem, full_attr, pur, weights, stop, printing)\u001b[0m\n\u001b[0;32m      1\u001b[0m \u001b[39mdef\u001b[39;00m \u001b[39mcreateTree\u001b[39m(s, rem, full_attr, pur, weights, stop, printing\u001b[39m=\u001b[39m\u001b[39mFalse\u001b[39;00m):\n\u001b[1;32m----> 2\u001b[0m     root \u001b[39m=\u001b[39m ID3(s, rem, full_attr, pur, \u001b[39mNone\u001b[39;49;00m, weights\u001b[39m=\u001b[39;49mweights, stopping\u001b[39m=\u001b[39;49mstop, printing\u001b[39m=\u001b[39;49mprinting)\n\u001b[0;32m      3\u001b[0m     \u001b[39mreturn\u001b[39;00m root\n",
      "File \u001b[1;32m~\\AppData\\Local\\Temp\\ipykernel_8080\\1566816695.py:27\u001b[0m, in \u001b[0;36mID3\u001b[1;34m(s, remaining_attributes, full_attributes, purity_func, parentNode, weights, level, stopping, printing)\u001b[0m\n\u001b[0;32m     25\u001b[0m   parentNode \u001b[39m=\u001b[39m Node(s\u001b[39m=\u001b[39ms, atrs\u001b[39m=\u001b[39mremaining_attributes, parent\u001b[39m=\u001b[39m\u001b[39mNone\u001b[39;00m)\n\u001b[0;32m     26\u001b[0m \u001b[39m#Find attribute best splits S\u001b[39;00m\n\u001b[1;32m---> 27\u001b[0m bestAtr \u001b[39m=\u001b[39m findBestSplit(s, weights, remaining_attributes, full_attributes, purity_func, printing)\n\u001b[0;32m     28\u001b[0m parentNode\u001b[39m.\u001b[39mlabel \u001b[39m=\u001b[39m bestAtr\n\u001b[0;32m     29\u001b[0m \u001b[39mif\u001b[39;00m(printing):\n",
      "File \u001b[1;32m~\\AppData\\Local\\Temp\\ipykernel_8080\\3830766415.py:5\u001b[0m, in \u001b[0;36mfindBestSplit\u001b[1;34m(s, weights, atrs, full_attributes, purity_func, printing)\u001b[0m\n\u001b[0;32m      3\u001b[0m max_info_gain_atr \u001b[39m=\u001b[39m atrs[\u001b[39m0\u001b[39m]\n\u001b[0;32m      4\u001b[0m \u001b[39mfor\u001b[39;00m atr \u001b[39min\u001b[39;00m atrs:\n\u001b[1;32m----> 5\u001b[0m   info_gained \u001b[39m=\u001b[39m find_info_gained(s, weights, atr, full_attributes, purity_func, printing)\n\u001b[0;32m      6\u001b[0m   \u001b[39mif\u001b[39;00m(printing):\n\u001b[0;32m      7\u001b[0m     \u001b[39mprint\u001b[39m(atr, info_gained)\n",
      "File \u001b[1;32m~\\AppData\\Local\\Temp\\ipykernel_8080\\879997944.py:5\u001b[0m, in \u001b[0;36mfind_info_gained\u001b[1;34m(s, weights, atr, full_attributes, purity_func, printing)\u001b[0m\n\u001b[0;32m      3\u001b[0m   \u001b[39mreturn\u001b[39;00m find_numeric_info_gained(s, weights, atr, full_attributes, purity_func, printing)\n\u001b[0;32m      4\u001b[0m \u001b[39melse\u001b[39;00m:\n\u001b[1;32m----> 5\u001b[0m   \u001b[39mreturn\u001b[39;00m find_categorical_info_gained(s, weights, atr, full_attributes, purity_func, printing)\n",
      "File \u001b[1;32m~\\AppData\\Local\\Temp\\ipykernel_8080\\224436790.py:19\u001b[0m, in \u001b[0;36mfind_categorical_info_gained\u001b[1;34m(s, weights, atr, full_attributes, purity_func, printing)\u001b[0m\n\u001b[0;32m     17\u001b[0m   pur_s\u001b[39m.\u001b[39mappend([i[\u001b[39mlen\u001b[39m(i)\u001b[39m-\u001b[39m\u001b[39m1\u001b[39m], weights[count]])\n\u001b[0;32m     18\u001b[0m   count \u001b[39m+\u001b[39m\u001b[39m=\u001b[39m \u001b[39m1\u001b[39m\n\u001b[1;32m---> 19\u001b[0m starting_info \u001b[39m=\u001b[39m purity_func(pur_s)\n\u001b[0;32m     20\u001b[0m \u001b[39mif\u001b[39;00m(printing):\n\u001b[0;32m     21\u001b[0m   \u001b[39mprint\u001b[39m(\u001b[39m\"\u001b[39m\u001b[39mStarting Info: \u001b[39m\u001b[39m\"\u001b[39m, starting_info)\n",
      "File \u001b[1;32m~\\AppData\\Local\\Temp\\ipykernel_8080\\1296656858.py:2\u001b[0m, in \u001b[0;36mentropy\u001b[1;34m(labels)\u001b[0m\n\u001b[0;32m      1\u001b[0m \u001b[39mdef\u001b[39;00m \u001b[39mentropy\u001b[39m(labels):\n\u001b[1;32m----> 2\u001b[0m   labeldf \u001b[39m=\u001b[39m pd\u001b[39m.\u001b[39;49mDataFrame(labels, columns\u001b[39m=\u001b[39;49m[\u001b[39m\"\u001b[39;49m\u001b[39mLabel\u001b[39;49m\u001b[39m\"\u001b[39;49m, \u001b[39m\"\u001b[39;49m\u001b[39mWeight\u001b[39;49m\u001b[39m\"\u001b[39;49m])\n\u001b[0;32m      3\u001b[0m   grouped \u001b[39m=\u001b[39m labeldf\u001b[39m.\u001b[39mgroupby(\u001b[39m\"\u001b[39m\u001b[39mLabel\u001b[39m\u001b[39m\"\u001b[39m)\u001b[39m.\u001b[39msum()\n\u001b[0;32m      4\u001b[0m   vec_counts \u001b[39m=\u001b[39m np\u001b[39m.\u001b[39marray(grouped)\u001b[39m.\u001b[39mflatten()\n",
      "File \u001b[1;32m~\\AppData\\Local\\Packages\\PythonSoftwareFoundation.Python.3.11_qbz5n2kfra8p0\\LocalCache\\local-packages\\Python311\\site-packages\\pandas\\core\\frame.py:809\u001b[0m, in \u001b[0;36mDataFrame.__init__\u001b[1;34m(self, data, index, columns, dtype, copy)\u001b[0m\n\u001b[0;32m    807\u001b[0m     \u001b[39mif\u001b[39;00m columns \u001b[39mis\u001b[39;00m \u001b[39mnot\u001b[39;00m \u001b[39mNone\u001b[39;00m:\n\u001b[0;32m    808\u001b[0m         columns \u001b[39m=\u001b[39m ensure_index(columns)\n\u001b[1;32m--> 809\u001b[0m     arrays, columns, index \u001b[39m=\u001b[39m nested_data_to_arrays(\n\u001b[0;32m    810\u001b[0m         \u001b[39m# error: Argument 3 to \"nested_data_to_arrays\" has incompatible\u001b[39;49;00m\n\u001b[0;32m    811\u001b[0m         \u001b[39m# type \"Optional[Collection[Any]]\"; expected \"Optional[Index]\"\u001b[39;49;00m\n\u001b[0;32m    812\u001b[0m         data,\n\u001b[0;32m    813\u001b[0m         columns,\n\u001b[0;32m    814\u001b[0m         index,  \u001b[39m# type: ignore[arg-type]\u001b[39;49;00m\n\u001b[0;32m    815\u001b[0m         dtype,\n\u001b[0;32m    816\u001b[0m     )\n\u001b[0;32m    817\u001b[0m     mgr \u001b[39m=\u001b[39m arrays_to_mgr(\n\u001b[0;32m    818\u001b[0m         arrays,\n\u001b[0;32m    819\u001b[0m         columns,\n\u001b[1;32m   (...)\u001b[0m\n\u001b[0;32m    822\u001b[0m         typ\u001b[39m=\u001b[39mmanager,\n\u001b[0;32m    823\u001b[0m     )\n\u001b[0;32m    824\u001b[0m \u001b[39melse\u001b[39;00m:\n",
      "File \u001b[1;32m~\\AppData\\Local\\Packages\\PythonSoftwareFoundation.Python.3.11_qbz5n2kfra8p0\\LocalCache\\local-packages\\Python311\\site-packages\\pandas\\core\\internals\\construction.py:520\u001b[0m, in \u001b[0;36mnested_data_to_arrays\u001b[1;34m(data, columns, index, dtype)\u001b[0m\n\u001b[0;32m    517\u001b[0m \u001b[39mif\u001b[39;00m is_named_tuple(data[\u001b[39m0\u001b[39m]) \u001b[39mand\u001b[39;00m columns \u001b[39mis\u001b[39;00m \u001b[39mNone\u001b[39;00m:\n\u001b[0;32m    518\u001b[0m     columns \u001b[39m=\u001b[39m ensure_index(data[\u001b[39m0\u001b[39m]\u001b[39m.\u001b[39m_fields)\n\u001b[1;32m--> 520\u001b[0m arrays, columns \u001b[39m=\u001b[39m to_arrays(data, columns, dtype\u001b[39m=\u001b[39;49mdtype)\n\u001b[0;32m    521\u001b[0m columns \u001b[39m=\u001b[39m ensure_index(columns)\n\u001b[0;32m    523\u001b[0m \u001b[39mif\u001b[39;00m index \u001b[39mis\u001b[39;00m \u001b[39mNone\u001b[39;00m:\n",
      "File \u001b[1;32m~\\AppData\\Local\\Packages\\PythonSoftwareFoundation.Python.3.11_qbz5n2kfra8p0\\LocalCache\\local-packages\\Python311\\site-packages\\pandas\\core\\internals\\construction.py:835\u001b[0m, in \u001b[0;36mto_arrays\u001b[1;34m(data, columns, dtype)\u001b[0m\n\u001b[0;32m    832\u001b[0m     \u001b[39mreturn\u001b[39;00m arrays, columns\n\u001b[0;32m    834\u001b[0m \u001b[39mif\u001b[39;00m \u001b[39misinstance\u001b[39m(data[\u001b[39m0\u001b[39m], (\u001b[39mlist\u001b[39m, \u001b[39mtuple\u001b[39m)):\n\u001b[1;32m--> 835\u001b[0m     arr \u001b[39m=\u001b[39m _list_to_arrays(data)\n\u001b[0;32m    836\u001b[0m \u001b[39melif\u001b[39;00m \u001b[39misinstance\u001b[39m(data[\u001b[39m0\u001b[39m], abc\u001b[39m.\u001b[39mMapping):\n\u001b[0;32m    837\u001b[0m     arr, columns \u001b[39m=\u001b[39m _list_of_dict_to_arrays(data, columns)\n",
      "File \u001b[1;32m~\\AppData\\Local\\Packages\\PythonSoftwareFoundation.Python.3.11_qbz5n2kfra8p0\\LocalCache\\local-packages\\Python311\\site-packages\\pandas\\core\\internals\\construction.py:856\u001b[0m, in \u001b[0;36m_list_to_arrays\u001b[1;34m(data)\u001b[0m\n\u001b[0;32m    853\u001b[0m     content \u001b[39m=\u001b[39m lib\u001b[39m.\u001b[39mto_object_array_tuples(data)\n\u001b[0;32m    854\u001b[0m \u001b[39melse\u001b[39;00m:\n\u001b[0;32m    855\u001b[0m     \u001b[39m# list of lists\u001b[39;00m\n\u001b[1;32m--> 856\u001b[0m     content \u001b[39m=\u001b[39m lib\u001b[39m.\u001b[39;49mto_object_array(data)\n\u001b[0;32m    857\u001b[0m \u001b[39mreturn\u001b[39;00m content\n",
      "\u001b[1;31mKeyboardInterrupt\u001b[0m: "
     ]
    }
   ],
   "source": [
    "iterations = 10\n",
    "s_train = s_banktraining\n",
    "s_test = s_banktesting\n",
    "full_attributes = full_attributes_bank\n",
    "attributes = remaining_attributes_bank\n",
    "purity_function = entropy\n",
    "\n",
    "D_1 = np.ones(len(s_train))/len(s_train)\n",
    "\n",
    "classifiers, alphas = Adaboost(D_t=D_1, iterations=iterations, s_train=s_train, full_attributes=full_attributes, attributes=attributes, purity_function=purity_function)\n",
    "print(\"~~~~~~~~~~~~~~~~~~~~~~~~~~~~~~~~~~~~~~~~~~~~~~~~\")\n",
    "print(alphas)\n",
    "print(\"~~~~~~~~~~~~~~~~~~~~~~~~~~~~~~~~~~~~~~~~~~~~~~~~~~~\")\n",
    "findModelAccuracy(s_test=s_test, classifiers=classifiers, alphas=alphas, full_attributes=full_attributes)"
   ]
  }
 ],
 "metadata": {
  "kernelspec": {
   "display_name": "Python 3",
   "language": "python",
   "name": "python3"
  },
  "language_info": {
   "codemirror_mode": {
    "name": "ipython",
    "version": 3
   },
   "file_extension": ".py",
   "mimetype": "text/x-python",
   "name": "python",
   "nbconvert_exporter": "python",
   "pygments_lexer": "ipython3",
   "version": "3.11.6"
  }
 },
 "nbformat": 4,
 "nbformat_minor": 2
}

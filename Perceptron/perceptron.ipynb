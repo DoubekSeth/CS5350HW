{
 "cells": [
  {
   "cell_type": "code",
   "execution_count": 3,
   "metadata": {},
   "outputs": [],
   "source": [
    "import pandas as pd\n",
    "import numpy as np"
   ]
  },
  {
   "cell_type": "code",
   "execution_count": 4,
   "metadata": {},
   "outputs": [],
   "source": [
    "attributes = [\"VoW\", \"SoW\", \"CoW\", \"Entropy\", \"Label\"]\n",
    "bank_note_training = pd.read_csv(\"https://raw.githubusercontent.com/DoubekSeth/ToyDatasets/main/bank-note/train.csv\", header=None, names=attributes)\n",
    "bank_note_testing = pd.read_csv(\"https://raw.githubusercontent.com/DoubekSeth/ToyDatasets/main/bank-note/test.csv\", header=None, names=attributes)"
   ]
  },
  {
   "cell_type": "code",
   "execution_count": 9,
   "metadata": {},
   "outputs": [],
   "source": [
    "def train_perceptron(training, r, t):\n",
    "    add_bias_term_to_df(training)\n",
    "    weights = np.zeros(training.shape[1]-1) #Minus one from labels\n",
    "    for epoch in range(t):\n",
    "        print(epoch)\n",
    "        for index, row in training.iterrows():\n",
    "            label = row.iloc[-1]\n",
    "            data = row.iloc[:len(row)-1]\n",
    "            #print(\"Label:\", label)\n",
    "            #print(\"Data:\", data)\n",
    "            prediction = np.dot(weights, data)\n",
    "            if((2*label-1)*prediction <= 0):\n",
    "                weights = weights + r*((2*label-1)*data)\n",
    "    return weights"
   ]
  },
  {
   "cell_type": "code",
   "execution_count": 6,
   "metadata": {},
   "outputs": [],
   "source": [
    "def add_bias_term_to_df(df):\n",
    "    rows = df.shape[0]\n",
    "    columns = df.shape[1]\n",
    "    ones = np.ones(rows)\n",
    "    #Need to check if actually need to insert\n",
    "    if(\"Bias Term\" not in df.columns):\n",
    "        df.insert(columns-1, \"Bias Term\", ones, False)"
   ]
  },
  {
   "cell_type": "code",
   "execution_count": 11,
   "metadata": {},
   "outputs": [],
   "source": [
    "def evaluate_perceptron(testing, weights):\n",
    "    correct = 0\n",
    "    add_bias_term_to_df(testing)\n",
    "    for index, row in testing.iterrows():\n",
    "        label = row.iloc[-1]\n",
    "        data = row.iloc[:len(row)-1]\n",
    "        prediction = np.dot(weights, data)\n",
    "        if((2*label-1)*prediction > 0):\n",
    "            correct += 1\n",
    "    return correct/testing.shape[0]"
   ]
  },
  {
   "cell_type": "code",
   "execution_count": 12,
   "metadata": {},
   "outputs": [
    {
     "name": "stdout",
     "output_type": "stream",
     "text": [
      "0\n",
      "1\n",
      "2\n"
     ]
    },
    {
     "name": "stderr",
     "output_type": "stream",
     "text": [
      "C:\\Users\\doube\\AppData\\Local\\Temp\\ipykernel_3004\\3000874771.py:7: FutureWarning: Series.__getitem__ treating keys as positions is deprecated. In a future version, integer keys will always be treated as labels (consistent with DataFrame behavior). To access a value by position, use `ser.iloc[pos]`\n",
      "  label = row[-1]\n"
     ]
    },
    {
     "name": "stdout",
     "output_type": "stream",
     "text": [
      "3\n",
      "4\n",
      "5\n",
      "6\n",
      "7\n",
      "8\n",
      "9\n"
     ]
    },
    {
     "data": {
      "text/plain": [
       "0.98"
      ]
     },
     "execution_count": 12,
     "metadata": {},
     "output_type": "execute_result"
    }
   ],
   "source": [
    "weights = train_perceptron(bank_note_training, 0.1, 10)\n",
    "evaluate_perceptron(bank_note_testing, weights)"
   ]
  }
 ],
 "metadata": {
  "kernelspec": {
   "display_name": "Python 3",
   "language": "python",
   "name": "python3"
  },
  "language_info": {
   "codemirror_mode": {
    "name": "ipython",
    "version": 3
   },
   "file_extension": ".py",
   "mimetype": "text/x-python",
   "name": "python",
   "nbconvert_exporter": "python",
   "pygments_lexer": "ipython3",
   "version": "3.11.6"
  }
 },
 "nbformat": 4,
 "nbformat_minor": 2
}

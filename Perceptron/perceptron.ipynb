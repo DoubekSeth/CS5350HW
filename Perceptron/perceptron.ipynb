{
 "cells": [
  {
   "cell_type": "code",
   "execution_count": 1,
   "metadata": {},
   "outputs": [],
   "source": [
    "import pandas as pd\n",
    "import numpy as np"
   ]
  },
  {
   "cell_type": "code",
   "execution_count": 2,
   "metadata": {},
   "outputs": [],
   "source": [
    "attributes = [\"VoW\", \"SoW\", \"CoW\", \"Entropy\", \"Label\"]\n",
    "bank_note_training = pd.read_csv(\"https://raw.githubusercontent.com/DoubekSeth/ToyDatasets/main/bank-note/train.csv\", header=None, names=attributes)\n",
    "bank_note_testing = pd.read_csv(\"https://raw.githubusercontent.com/DoubekSeth/ToyDatasets/main/bank-note/test.csv\", header=None, names=attributes)"
   ]
  },
  {
   "cell_type": "code",
   "execution_count": 58,
   "metadata": {},
   "outputs": [],
   "source": [
    "def train_perceptron(training, r):\n",
    "    add_bias_term_to_df(training)\n",
    "    weights = np.zeros(training.shape[1]-1) #Minus one from labels\n",
    "    for index, row in training.iterrows():\n",
    "        label = row[-1]\n",
    "        data = row[:len(row)-1]\n",
    "        #print(\"Label:\", label)\n",
    "        #print(\"Data:\", data)\n",
    "        prediction = np.dot(weights, data)\n",
    "        if((2*label-1)*prediction <= 0):\n",
    "            weights = weights + r*((2*label-1)*data)\n",
    "    return weights"
   ]
  },
  {
   "cell_type": "code",
   "execution_count": 4,
   "metadata": {},
   "outputs": [],
   "source": [
    "def add_bias_term_to_df(df):\n",
    "    rows = df.shape[0]\n",
    "    columns = df.shape[1]\n",
    "    ones = np.ones(rows)\n",
    "    #Need to check if actually need to insert\n",
    "    if(\"Bias Term\" not in df.columns):\n",
    "        df.insert(columns-1, \"Bias Term\", ones, False)"
   ]
  },
  {
   "cell_type": "code",
   "execution_count": 55,
   "metadata": {},
   "outputs": [],
   "source": [
    "def evaluate_perceptron(testing, weights):\n",
    "    correct = 0\n",
    "    add_bias_term_to_df(testing)\n",
    "    for index, row in testing.iterrows():\n",
    "        label = row[-1]\n",
    "        data = row[:len(row)-1]\n",
    "        prediction = np.dot(weights, data)\n",
    "        if((2*label-1)*prediction > 0):\n",
    "            correct += 1\n",
    "    return correct/testing.shape[0]"
   ]
  },
  {
   "cell_type": "code",
   "execution_count": 59,
   "metadata": {},
   "outputs": [
    {
     "name": "stderr",
     "output_type": "stream",
     "text": [
      "C:\\Users\\doube\\AppData\\Local\\Temp\\ipykernel_14784\\4021016028.py:5: FutureWarning: Series.__getitem__ treating keys as positions is deprecated. In a future version, integer keys will always be treated as labels (consistent with DataFrame behavior). To access a value by position, use `ser.iloc[pos]`\n",
      "  label = row[-1]\n"
     ]
    },
    {
     "data": {
      "text/plain": [
       "0.966"
      ]
     },
     "execution_count": 59,
     "metadata": {},
     "output_type": "execute_result"
    }
   ],
   "source": [
    "weights = train_perceptron(bank_note_training, 0.1)\n",
    "evaluate_perceptron(bank_note_testing, weights)"
   ]
  }
 ],
 "metadata": {
  "kernelspec": {
   "display_name": "Python 3",
   "language": "python",
   "name": "python3"
  },
  "language_info": {
   "codemirror_mode": {
    "name": "ipython",
    "version": 3
   },
   "file_extension": ".py",
   "mimetype": "text/x-python",
   "name": "python",
   "nbconvert_exporter": "python",
   "pygments_lexer": "ipython3",
   "version": "3.11.6"
  }
 },
 "nbformat": 4,
 "nbformat_minor": 2
}
